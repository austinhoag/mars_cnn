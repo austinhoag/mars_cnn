{
 "cells": [
  {
   "cell_type": "code",
   "execution_count": 1,
   "metadata": {},
   "outputs": [],
   "source": [
    "from PIL import Image\n",
    "import os\n",
    "import numpy as np\n",
    "import pandas as pd\n",
    "import glob\n",
    "from datetime import datetime"
   ]
  },
  {
   "cell_type": "code",
   "execution_count": 2,
   "metadata": {},
   "outputs": [],
   "source": [
    "filename = '../downloaded_images_800x600/ESP_044902_1575.jpg'"
   ]
  },
  {
   "cell_type": "code",
   "execution_count": 3,
   "metadata": {},
   "outputs": [],
   "source": [
    "im = Image.open(filename)\n",
    "# w,h = im.size\n",
    "# imc = im.crop((w-50,h-50,w+50,h+50))"
   ]
  },
  {
   "cell_type": "code",
   "execution_count": 4,
   "metadata": {},
   "outputs": [
    {
     "data": {
      "text/plain": [
       "(800, 600)"
      ]
     },
     "execution_count": 4,
     "metadata": {},
     "output_type": "execute_result"
    }
   ],
   "source": [
    "im.size"
   ]
  },
  {
   "cell_type": "code",
   "execution_count": 5,
   "metadata": {},
   "outputs": [
    {
     "data": {
      "text/plain": [
       "PIL.JpegImagePlugin.JpegImageFile"
      ]
     },
     "execution_count": 5,
     "metadata": {},
     "output_type": "execute_result"
    }
   ],
   "source": [
    "type(im)"
   ]
  },
  {
   "cell_type": "code",
   "execution_count": 11,
   "metadata": {},
   "outputs": [],
   "source": [
    "imarray=np.array(im)"
   ]
  },
  {
   "cell_type": "code",
   "execution_count": 14,
   "metadata": {},
   "outputs": [
    {
     "data": {
      "text/plain": [
       "(200, 200, 3)"
      ]
     },
     "execution_count": 14,
     "metadata": {},
     "output_type": "execute_result"
    }
   ],
   "source": [
    "imarray[0:200,0:200,:].shape"
   ]
  },
  {
   "cell_type": "code",
   "execution_count": 15,
   "metadata": {},
   "outputs": [
    {
     "data": {
      "text/plain": [
       "(600, 800, 3)"
      ]
     },
     "execution_count": 15,
     "metadata": {},
     "output_type": "execute_result"
    }
   ],
   "source": [
    "imarray.shape"
   ]
  },
  {
   "cell_type": "code",
   "execution_count": 25,
   "metadata": {},
   "outputs": [
    {
     "data": {
      "text/plain": [
       "(800, 3)"
      ]
     },
     "execution_count": 25,
     "metadata": {},
     "output_type": "execute_result"
    }
   ],
   "source": [
    "imarray[0].shape"
   ]
  },
  {
   "cell_type": "code",
   "execution_count": 28,
   "metadata": {},
   "outputs": [
    {
     "data": {
      "text/plain": [
       "(800, 600)"
      ]
     },
     "execution_count": 28,
     "metadata": {},
     "output_type": "execute_result"
    }
   ],
   "source": [
    "im.size"
   ]
  },
  {
   "cell_type": "code",
   "execution_count": 35,
   "metadata": {},
   "outputs": [
    {
     "data": {
      "text/plain": [
       "'RGB'"
      ]
     },
     "execution_count": 35,
     "metadata": {},
     "output_type": "execute_result"
    }
   ],
   "source": [
    "im.mode"
   ]
  },
  {
   "cell_type": "code",
   "execution_count": 65,
   "metadata": {},
   "outputs": [],
   "source": [
    "def chunk12(filename):\n",
    "    \"\"\"\n",
    "    ---PURPOSE---\n",
    "    Chunk an image array into 12 square chunks\n",
    "    and save each as its own image file\n",
    "    ---INPUT---\n",
    "    pil_im A PIL image that is 800x600 and an RGB 3-channel image\n",
    "    \"\"\"\n",
    "    cs=200 # chunksize\n",
    "    savename_base = filename.replace('downloaded_images','chunked_images').replace('.jpg','')\n",
    "    with Image.open(filename) as pil_im:\n",
    "        assert pil_im.mode == 'RGB'\n",
    "        assert pil_im.size == (800,600)\n",
    "        for x in range(0,800,cs):\n",
    "            for y in range(0,600,cs):\n",
    "                savename_chunk = savename_base + f'_x{x}-{x+cs}_y{y}-{y+cs}.jpg'\n",
    "                box = (x,y,x+cs,y+cs)\n",
    "                crop = pil_im.crop(box)\n",
    "                crop.save(savename_chunk)\n",
    "    "
   ]
  },
  {
   "cell_type": "code",
   "execution_count": 66,
   "metadata": {},
   "outputs": [
    {
     "name": "stdout",
     "output_type": "stream",
     "text": [
      "../chunked_images_800x600/ESP_044902_1575_x0-200_y0-200.jpg\n",
      "../chunked_images_800x600/ESP_044902_1575_x0-200_y200-400.jpg\n",
      "../chunked_images_800x600/ESP_044902_1575_x0-200_y400-600.jpg\n",
      "../chunked_images_800x600/ESP_044902_1575_x200-400_y0-200.jpg\n",
      "../chunked_images_800x600/ESP_044902_1575_x200-400_y200-400.jpg\n",
      "../chunked_images_800x600/ESP_044902_1575_x200-400_y400-600.jpg\n",
      "../chunked_images_800x600/ESP_044902_1575_x400-600_y0-200.jpg\n",
      "../chunked_images_800x600/ESP_044902_1575_x400-600_y200-400.jpg\n",
      "../chunked_images_800x600/ESP_044902_1575_x400-600_y400-600.jpg\n",
      "../chunked_images_800x600/ESP_044902_1575_x600-800_y0-200.jpg\n",
      "../chunked_images_800x600/ESP_044902_1575_x600-800_y200-400.jpg\n",
      "../chunked_images_800x600/ESP_044902_1575_x600-800_y400-600.jpg\n"
     ]
    }
   ],
   "source": [
    "chunk12(filename)"
   ]
  },
  {
   "cell_type": "code",
   "execution_count": 60,
   "metadata": {},
   "outputs": [
    {
     "data": {
      "text/plain": [
       "'../chunked_images_800x600/ESP_044902_1575'"
      ]
     },
     "execution_count": 60,
     "metadata": {},
     "output_type": "execute_result"
    }
   ],
   "source": [
    "filename.replace('downloaded_images','chunked_images').replace('.jpg','')"
   ]
  },
  {
   "cell_type": "code",
   "execution_count": 55,
   "metadata": {},
   "outputs": [],
   "source": [
    "c.save('./test.jpg')"
   ]
  },
  {
   "cell_type": "markdown",
   "metadata": {},
   "source": [
    "## Make CSV file for training set"
   ]
  },
  {
   "cell_type": "code",
   "execution_count": 8,
   "metadata": {},
   "outputs": [],
   "source": [
    "chunk_dir = '../chunked_images_800x600/'"
   ]
  },
  {
   "cell_type": "code",
   "execution_count": 9,
   "metadata": {},
   "outputs": [],
   "source": [
    "chunk_filenames = glob.glob(chunk_dir + '/*jpg')"
   ]
  },
  {
   "cell_type": "code",
   "execution_count": 10,
   "metadata": {},
   "outputs": [],
   "source": [
    "image_names = [x.split('/')[-1] for x in chunk_filenames]"
   ]
  },
  {
   "cell_type": "code",
   "execution_count": 12,
   "metadata": {},
   "outputs": [],
   "source": [
    "training_dict_list = [{'filename':image_names[ii],'has_crater':0} for ii in range(len(image_names))]"
   ]
  },
  {
   "cell_type": "code",
   "execution_count": 29,
   "metadata": {},
   "outputs": [
    {
     "data": {
      "text/plain": [
       "23736"
      ]
     },
     "execution_count": 29,
     "metadata": {},
     "output_type": "execute_result"
    }
   ],
   "source": [
    "len(training_dict_list)"
   ]
  },
  {
   "cell_type": "code",
   "execution_count": 30,
   "metadata": {},
   "outputs": [],
   "source": [
    "df = pd.DataFrame(training_dict_list)"
   ]
  },
  {
   "cell_type": "code",
   "execution_count": 31,
   "metadata": {},
   "outputs": [
    {
     "data": {
      "text/html": [
       "<div>\n",
       "<style scoped>\n",
       "    .dataframe tbody tr th:only-of-type {\n",
       "        vertical-align: middle;\n",
       "    }\n",
       "\n",
       "    .dataframe tbody tr th {\n",
       "        vertical-align: top;\n",
       "    }\n",
       "\n",
       "    .dataframe thead th {\n",
       "        text-align: right;\n",
       "    }\n",
       "</style>\n",
       "<table border=\"1\" class=\"dataframe\">\n",
       "  <thead>\n",
       "    <tr style=\"text-align: right;\">\n",
       "      <th></th>\n",
       "      <th>filename</th>\n",
       "      <th>has_crater</th>\n",
       "    </tr>\n",
       "  </thead>\n",
       "  <tbody>\n",
       "    <tr>\n",
       "      <th>0</th>\n",
       "      <td>PSP_010420_2505_x200-400_y400-600.jpg</td>\n",
       "      <td>0</td>\n",
       "    </tr>\n",
       "    <tr>\n",
       "      <th>1</th>\n",
       "      <td>PSP_009842_1755_x600-800_y400-600.jpg</td>\n",
       "      <td>0</td>\n",
       "    </tr>\n",
       "    <tr>\n",
       "      <th>2</th>\n",
       "      <td>ESP_028825_2070_x200-400_y0-200.jpg</td>\n",
       "      <td>0</td>\n",
       "    </tr>\n",
       "    <tr>\n",
       "      <th>3</th>\n",
       "      <td>PSP_006724_2165_x400-600_y400-600.jpg</td>\n",
       "      <td>0</td>\n",
       "    </tr>\n",
       "    <tr>\n",
       "      <th>4</th>\n",
       "      <td>ESP_056563_0960_x400-600_y200-400.jpg</td>\n",
       "      <td>0</td>\n",
       "    </tr>\n",
       "    <tr>\n",
       "      <th>...</th>\n",
       "      <td>...</td>\n",
       "      <td>...</td>\n",
       "    </tr>\n",
       "    <tr>\n",
       "      <th>23731</th>\n",
       "      <td>PSP_006754_1790_x0-200_y400-600.jpg</td>\n",
       "      <td>0</td>\n",
       "    </tr>\n",
       "    <tr>\n",
       "      <th>23732</th>\n",
       "      <td>PSP_008189_2080_x0-200_y400-600.jpg</td>\n",
       "      <td>0</td>\n",
       "    </tr>\n",
       "    <tr>\n",
       "      <th>23733</th>\n",
       "      <td>ESP_011630_0930_x0-200_y400-600.jpg</td>\n",
       "      <td>0</td>\n",
       "    </tr>\n",
       "    <tr>\n",
       "      <th>23734</th>\n",
       "      <td>ESP_037122_2165_x200-400_y0-200.jpg</td>\n",
       "      <td>0</td>\n",
       "    </tr>\n",
       "    <tr>\n",
       "      <th>23735</th>\n",
       "      <td>ESP_025297_1730_x400-600_y200-400.jpg</td>\n",
       "      <td>0</td>\n",
       "    </tr>\n",
       "  </tbody>\n",
       "</table>\n",
       "<p>23736 rows × 2 columns</p>\n",
       "</div>"
      ],
      "text/plain": [
       "                                    filename  has_crater\n",
       "0      PSP_010420_2505_x200-400_y400-600.jpg           0\n",
       "1      PSP_009842_1755_x600-800_y400-600.jpg           0\n",
       "2        ESP_028825_2070_x200-400_y0-200.jpg           0\n",
       "3      PSP_006724_2165_x400-600_y400-600.jpg           0\n",
       "4      ESP_056563_0960_x400-600_y200-400.jpg           0\n",
       "...                                      ...         ...\n",
       "23731    PSP_006754_1790_x0-200_y400-600.jpg           0\n",
       "23732    PSP_008189_2080_x0-200_y400-600.jpg           0\n",
       "23733    ESP_011630_0930_x0-200_y400-600.jpg           0\n",
       "23734    ESP_037122_2165_x200-400_y0-200.jpg           0\n",
       "23735  ESP_025297_1730_x400-600_y200-400.jpg           0\n",
       "\n",
       "[23736 rows x 2 columns]"
      ]
     },
     "execution_count": 31,
     "metadata": {},
     "output_type": "execute_result"
    }
   ],
   "source": [
    "df"
   ]
  },
  {
   "cell_type": "code",
   "execution_count": 70,
   "metadata": {},
   "outputs": [],
   "source": [
    "f='PSP_009842_1755_x600-800_y400-600.jpg'\n",
    "row_mask = df.filename == f\n",
    "df.loc[row_mask,'has_crater']=1"
   ]
  },
  {
   "cell_type": "code",
   "execution_count": 79,
   "metadata": {
    "scrolled": true
   },
   "outputs": [
    {
     "data": {
      "text/html": [
       "<div>\n",
       "<style scoped>\n",
       "    .dataframe tbody tr th:only-of-type {\n",
       "        vertical-align: middle;\n",
       "    }\n",
       "\n",
       "    .dataframe tbody tr th {\n",
       "        vertical-align: top;\n",
       "    }\n",
       "\n",
       "    .dataframe thead th {\n",
       "        text-align: right;\n",
       "    }\n",
       "</style>\n",
       "<table border=\"1\" class=\"dataframe\">\n",
       "  <thead>\n",
       "    <tr style=\"text-align: right;\">\n",
       "      <th></th>\n",
       "      <th>filename</th>\n",
       "      <th>has_crater</th>\n",
       "    </tr>\n",
       "  </thead>\n",
       "  <tbody>\n",
       "    <tr>\n",
       "      <th>0</th>\n",
       "      <td>PSP_010420_2505_x200-400_y400-600.jpg</td>\n",
       "      <td>0</td>\n",
       "    </tr>\n",
       "    <tr>\n",
       "      <th>1</th>\n",
       "      <td>PSP_009842_1755_x600-800_y400-600.jpg</td>\n",
       "      <td>0</td>\n",
       "    </tr>\n",
       "    <tr>\n",
       "      <th>2</th>\n",
       "      <td>ESP_028825_2070_x200-400_y0-200.jpg</td>\n",
       "      <td>0</td>\n",
       "    </tr>\n",
       "    <tr>\n",
       "      <th>3</th>\n",
       "      <td>PSP_006724_2165_x400-600_y400-600.jpg</td>\n",
       "      <td>0</td>\n",
       "    </tr>\n",
       "    <tr>\n",
       "      <th>4</th>\n",
       "      <td>ESP_056563_0960_x400-600_y200-400.jpg</td>\n",
       "      <td>0</td>\n",
       "    </tr>\n",
       "    <tr>\n",
       "      <th>...</th>\n",
       "      <td>...</td>\n",
       "      <td>...</td>\n",
       "    </tr>\n",
       "    <tr>\n",
       "      <th>23731</th>\n",
       "      <td>PSP_006754_1790_x0-200_y400-600.jpg</td>\n",
       "      <td>0</td>\n",
       "    </tr>\n",
       "    <tr>\n",
       "      <th>23732</th>\n",
       "      <td>PSP_008189_2080_x0-200_y400-600.jpg</td>\n",
       "      <td>0</td>\n",
       "    </tr>\n",
       "    <tr>\n",
       "      <th>23733</th>\n",
       "      <td>ESP_011630_0930_x0-200_y400-600.jpg</td>\n",
       "      <td>0</td>\n",
       "    </tr>\n",
       "    <tr>\n",
       "      <th>23734</th>\n",
       "      <td>ESP_037122_2165_x200-400_y0-200.jpg</td>\n",
       "      <td>0</td>\n",
       "    </tr>\n",
       "    <tr>\n",
       "      <th>23735</th>\n",
       "      <td>ESP_025297_1730_x400-600_y200-400.jpg</td>\n",
       "      <td>0</td>\n",
       "    </tr>\n",
       "  </tbody>\n",
       "</table>\n",
       "<p>23736 rows × 2 columns</p>\n",
       "</div>"
      ],
      "text/plain": [
       "                                    filename  has_crater\n",
       "0      PSP_010420_2505_x200-400_y400-600.jpg           0\n",
       "1      PSP_009842_1755_x600-800_y400-600.jpg           0\n",
       "2        ESP_028825_2070_x200-400_y0-200.jpg           0\n",
       "3      PSP_006724_2165_x400-600_y400-600.jpg           0\n",
       "4      ESP_056563_0960_x400-600_y200-400.jpg           0\n",
       "...                                      ...         ...\n",
       "23731    PSP_006754_1790_x0-200_y400-600.jpg           0\n",
       "23732    PSP_008189_2080_x0-200_y400-600.jpg           0\n",
       "23733    ESP_011630_0930_x0-200_y400-600.jpg           0\n",
       "23734    ESP_037122_2165_x200-400_y0-200.jpg           0\n",
       "23735  ESP_025297_1730_x400-600_y200-400.jpg           0\n",
       "\n",
       "[23736 rows x 2 columns]"
      ]
     },
     "execution_count": 79,
     "metadata": {},
     "output_type": "execute_result"
    }
   ],
   "source": [
    "crater_df = pd.read_csv('../gallery_app/app/static/mars_cnn_training_set.csv')\n",
    "crater_df"
   ]
  },
  {
   "cell_type": "code",
   "execution_count": 82,
   "metadata": {},
   "outputs": [],
   "source": [
    "# crater_df['has_dunes']=0\n",
    "# crater_df.to_csv('../gallery_app/app/static/multilabel_training_set.csv',index=False)"
   ]
  },
  {
   "cell_type": "code",
   "execution_count": 107,
   "metadata": {},
   "outputs": [
    {
     "data": {
      "text/plain": [
       "904"
      ]
     },
     "execution_count": 107,
     "metadata": {},
     "output_type": "execute_result"
    }
   ],
   "source": [
    "df = pd.read_csv('../gallery_app/app/static/multilabel_training_set.csv')\n",
    "df_dunes= df[df.loc[:,'has_dunes']==1]\n",
    "len(df_dunes)"
   ]
  },
  {
   "cell_type": "code",
   "execution_count": 104,
   "metadata": {},
   "outputs": [
    {
     "data": {
      "text/plain": [
       "904"
      ]
     },
     "execution_count": 104,
     "metadata": {},
     "output_type": "execute_result"
    }
   ],
   "source": [
    "df = pd.read_csv('../gallery_app/app/static/multilabel_training_set.csv')\n",
    "df_craters = df[df.loc[:,'has_crater']==1]\n",
    "len(df_craters)"
   ]
  },
  {
   "cell_type": "code",
   "execution_count": 33,
   "metadata": {},
   "outputs": [],
   "source": [
    "filenames_craters = crater_df[crater_df.loc[:,'has_crater']==1].filename"
   ]
  },
  {
   "cell_type": "code",
   "execution_count": 34,
   "metadata": {},
   "outputs": [
    {
     "data": {
      "text/plain": [
       "721"
      ]
     },
     "execution_count": 34,
     "metadata": {},
     "output_type": "execute_result"
    }
   ],
   "source": [
    "len(filenames_craters)"
   ]
  },
  {
   "cell_type": "code",
   "execution_count": 35,
   "metadata": {},
   "outputs": [],
   "source": [
    "bigfile_mask = df.loc[:,'filename'].isin(filenames_craters)"
   ]
  },
  {
   "cell_type": "code",
   "execution_count": 36,
   "metadata": {},
   "outputs": [],
   "source": [
    "df.loc[bigfile_mask,'has_crater']=1"
   ]
  },
  {
   "cell_type": "code",
   "execution_count": 41,
   "metadata": {},
   "outputs": [
    {
     "data": {
      "text/html": [
       "<div>\n",
       "<style scoped>\n",
       "    .dataframe tbody tr th:only-of-type {\n",
       "        vertical-align: middle;\n",
       "    }\n",
       "\n",
       "    .dataframe tbody tr th {\n",
       "        vertical-align: top;\n",
       "    }\n",
       "\n",
       "    .dataframe thead th {\n",
       "        text-align: right;\n",
       "    }\n",
       "</style>\n",
       "<table border=\"1\" class=\"dataframe\">\n",
       "  <thead>\n",
       "    <tr style=\"text-align: right;\">\n",
       "      <th></th>\n",
       "      <th>filename</th>\n",
       "    </tr>\n",
       "    <tr>\n",
       "      <th>has_crater</th>\n",
       "      <th></th>\n",
       "    </tr>\n",
       "  </thead>\n",
       "  <tbody>\n",
       "    <tr>\n",
       "      <th>0</th>\n",
       "      <td>23014</td>\n",
       "    </tr>\n",
       "    <tr>\n",
       "      <th>1</th>\n",
       "      <td>722</td>\n",
       "    </tr>\n",
       "  </tbody>\n",
       "</table>\n",
       "</div>"
      ],
      "text/plain": [
       "            filename\n",
       "has_crater          \n",
       "0              23014\n",
       "1                722"
      ]
     },
     "execution_count": 41,
     "metadata": {},
     "output_type": "execute_result"
    }
   ],
   "source": []
  },
  {
   "cell_type": "code",
   "execution_count": 66,
   "metadata": {},
   "outputs": [
    {
     "data": {
      "text/html": [
       "<div>\n",
       "<style scoped>\n",
       "    .dataframe tbody tr th:only-of-type {\n",
       "        vertical-align: middle;\n",
       "    }\n",
       "\n",
       "    .dataframe tbody tr th {\n",
       "        vertical-align: top;\n",
       "    }\n",
       "\n",
       "    .dataframe thead th {\n",
       "        text-align: right;\n",
       "    }\n",
       "</style>\n",
       "<table border=\"1\" class=\"dataframe\">\n",
       "  <thead>\n",
       "    <tr style=\"text-align: right;\">\n",
       "      <th></th>\n",
       "      <th>filename</th>\n",
       "    </tr>\n",
       "    <tr>\n",
       "      <th>has_crater</th>\n",
       "      <th></th>\n",
       "    </tr>\n",
       "  </thead>\n",
       "  <tbody>\n",
       "    <tr>\n",
       "      <th>0</th>\n",
       "      <td>22832</td>\n",
       "    </tr>\n",
       "    <tr>\n",
       "      <th>1</th>\n",
       "      <td>904</td>\n",
       "    </tr>\n",
       "  </tbody>\n",
       "</table>\n",
       "</div>"
      ],
      "text/plain": [
       "            filename\n",
       "has_crater          \n",
       "0              22832\n",
       "1                904"
      ]
     },
     "execution_count": 66,
     "metadata": {},
     "output_type": "execute_result"
    }
   ],
   "source": [
    "crater_df = pd.read_csv('../gallery_app/app/static/mars_cnn_training_set.csv')\n",
    "crater_df.groupby('has_crater').count()"
   ]
  },
  {
   "cell_type": "code",
   "execution_count": 104,
   "metadata": {},
   "outputs": [
    {
     "data": {
      "text/plain": [
       "15900"
      ]
     },
     "execution_count": 104,
     "metadata": {},
     "output_type": "execute_result"
    }
   ],
   "source": [
    "318*50"
   ]
  },
  {
   "cell_type": "code",
   "execution_count": 93,
   "metadata": {},
   "outputs": [
    {
     "data": {
      "text/plain": [
       "0.15886363636363637"
      ]
     },
     "execution_count": 93,
     "metadata": {},
     "output_type": "execute_result"
    }
   ],
   "source": [
    "699/(220*20)"
   ]
  },
  {
   "cell_type": "code",
   "execution_count": 44,
   "metadata": {},
   "outputs": [],
   "source": [
    "import math"
   ]
  },
  {
   "cell_type": "code",
   "execution_count": 45,
   "metadata": {},
   "outputs": [
    {
     "data": {
      "text/plain": [
       "51"
      ]
     },
     "execution_count": 45,
     "metadata": {},
     "output_type": "execute_result"
    }
   ],
   "source": [
    "math.ceil(301/6)"
   ]
  },
  {
   "cell_type": "markdown",
   "metadata": {},
   "source": [
    "## Downsize to a specific size"
   ]
  },
  {
   "cell_type": "code",
   "execution_count": 107,
   "metadata": {},
   "outputs": [
    {
     "data": {
      "text/plain": [
       "'/home/ahoag/ML/mars/notebooks'"
      ]
     },
     "execution_count": 107,
     "metadata": {},
     "output_type": "execute_result"
    }
   ],
   "source": [
    "pwd"
   ]
  },
  {
   "cell_type": "code",
   "execution_count": 112,
   "metadata": {},
   "outputs": [],
   "source": [
    "filename = '../gallery_app/app/static/images/ESP_028473_1840_x200-400_y200-400.jpg'"
   ]
  },
  {
   "cell_type": "code",
   "execution_count": 122,
   "metadata": {},
   "outputs": [],
   "source": [
    "im = Image.open(filename)"
   ]
  },
  {
   "cell_type": "code",
   "execution_count": 123,
   "metadata": {},
   "outputs": [
    {
     "data": {
      "text/plain": [
       "(200, 200)"
      ]
     },
     "execution_count": 123,
     "metadata": {},
     "output_type": "execute_result"
    }
   ],
   "source": [
    "im.size"
   ]
  },
  {
   "cell_type": "code",
   "execution_count": 124,
   "metadata": {},
   "outputs": [
    {
     "data": {
      "image/png": "[encoded data removed]",
      "text/plain": [
       "<PIL.JpegImagePlugin.JpegImageFile image mode=RGB size=200x200 at 0x7FDF41C6CA90>"
      ]
     },
     "execution_count": 124,
     "metadata": {},
     "output_type": "execute_result"
    }
   ],
   "source": [
    "im"
   ]
  },
  {
   "cell_type": "code",
   "execution_count": 127,
   "metadata": {},
   "outputs": [],
   "source": [
    "output_size = (50, 50)\n",
    "\n",
    "im.thumbnail(output_size)"
   ]
  },
  {
   "cell_type": "code",
   "execution_count": 128,
   "metadata": {},
   "outputs": [
    {
     "data": {
      "image/png": "[encoded data removed]",
      "text/plain": [
       "<PIL.JpegImagePlugin.JpegImageFile image mode=RGB size=50x50 at 0x7FDF41C6CA90>"
      ]
     },
     "execution_count": 128,
     "metadata": {},
     "output_type": "execute_result"
    }
   ],
   "source": [
    "im"
   ]
  },
  {
   "cell_type": "code",
   "execution_count": 129,
   "metadata": {},
   "outputs": [],
   "source": [
    "filename = '/home/ahoag/ML/mars/gallery_app/app/static/images/ESP_044088_2640_x200-400_y0-200.jpg'"
   ]
  },
  {
   "cell_type": "code",
   "execution_count": 132,
   "metadata": {},
   "outputs": [
    {
     "data": {
      "text/plain": [
       "'ESP_044088_2640_x200-400_y0-200.jpg'"
      ]
     },
     "execution_count": 132,
     "metadata": {},
     "output_type": "execute_result"
    }
   ],
   "source": [
    "os.path.basename(filename)"
   ]
  },
  {
   "cell_type": "code",
   "execution_count": 133,
   "metadata": {},
   "outputs": [
    {
     "data": {
      "text/plain": [
       "'/home/ahoag/ML/mars/gallery_app/app/static/images'"
      ]
     },
     "execution_count": 133,
     "metadata": {},
     "output_type": "execute_result"
    }
   ],
   "source": [
    "os.path.dirname(filename)"
   ]
  },
  {
   "cell_type": "code",
   "execution_count": 2,
   "metadata": {},
   "outputs": [],
   "source": [
    "np.random.seed(42)"
   ]
  },
  {
   "cell_type": "code",
   "execution_count": 3,
   "metadata": {},
   "outputs": [],
   "source": [
    "l1=list(range(20))\n",
    "np.random.shuffle(l1)"
   ]
  },
  {
   "cell_type": "code",
   "execution_count": 145,
   "metadata": {},
   "outputs": [
    {
     "data": {
      "text/plain": [
       "[0, 17, 15, 1, 8, 5, 11, 3, 18, 16, 13, 2, 9, 19, 4, 12, 7, 10, 14, 6]"
      ]
     },
     "execution_count": 145,
     "metadata": {},
     "output_type": "execute_result"
    }
   ],
   "source": [
    "l1"
   ]
  },
  {
   "cell_type": "code",
   "execution_count": 147,
   "metadata": {},
   "outputs": [
    {
     "data": {
      "text/plain": [
       "[19, 16, 15, 5, 4, 12, 14, 7, 3, 6, 2, 9, 13, 10, 18, 8, 17, 11, 0, 1]"
      ]
     },
     "execution_count": 147,
     "metadata": {},
     "output_type": "execute_result"
    }
   ],
   "source": [
    "l1"
   ]
  },
  {
   "cell_type": "code",
   "execution_count": 4,
   "metadata": {},
   "outputs": [
    {
     "data": {
      "text/plain": [
       "[0, 17, 15, 1, 8, 5, 11, 3, 18, 16, 13, 2, 9, 19, 4, 12, 7, 10, 14, 6]"
      ]
     },
     "execution_count": 4,
     "metadata": {},
     "output_type": "execute_result"
    }
   ],
   "source": [
    "l1"
   ]
  },
  {
   "cell_type": "code",
   "execution_count": 6,
   "metadata": {},
   "outputs": [
    {
     "data": {
      "text/plain": [
       "'2020-02-01'"
      ]
     },
     "execution_count": 6,
     "metadata": {},
     "output_type": "execute_result"
    }
   ],
   "source": [
    "s='1 February 2020'\n",
    "dt = datetime.strptime(s,'%d %B %Y')\n",
    "dt.strftime('%Y-%m-%d')"
   ]
  },
  {
   "cell_type": "code",
   "execution_count": 8,
   "metadata": {},
   "outputs": [
    {
     "data": {
      "text/plain": [
       "'5 March 2021'"
      ]
     },
     "execution_count": 8,
     "metadata": {},
     "output_type": "execute_result"
    }
   ],
   "source": [
    "import re\n",
    "s='\\n\\t\\tHiRISE Picture of the Day: 5 March 2021\\xa0\\nYesterday’s HiPOD\\xa0\\xa0•\\xa0\\xa0Archive\\xa0\\xa0'\n",
    "re.search(r'Day:\\s(.*?)\\xa0', s).group(1)"
   ]
  },
  {
   "cell_type": "code",
   "execution_count": 10,
   "metadata": {},
   "outputs": [],
   "source": [
    "from numpy import array, float32\n",
    "predictions_dict = {'/home/ahoag/ML/mars/gallery_app/app/static/hipod/2021-03-06/chunked_images_200x200/ESP_039405_1575_x0-200_y0-200.jpg': array([0.15351805, 0.8867371 ], dtype=float32), '/home/ahoag/ML/mars/gallery_app/app/static/hipod/2021-03-06/chunked_images_200x200/ESP_039405_1575_x0-200_y200-400.jpg': array([0.547948 , 0.4299025], dtype=float32), '/home/ahoag/ML/mars/gallery_app/app/static/hipod/2021-03-06/chunked_images_200x200/ESP_039405_1575_x0-200_y400-600.jpg': array([0.1480481, 0.8924098], dtype=float32), '/home/ahoag/ML/mars/gallery_app/app/static/hipod/2021-03-06/chunked_images_200x200/ESP_039405_1575_x200-400_y0-200.jpg': array([0.05807012, 0.96070176], dtype=float32), '/home/ahoag/ML/mars/gallery_app/app/static/hipod/2021-03-06/chunked_images_200x200/ESP_039405_1575_x200-400_y200-400.jpg': array([0.10921037, 0.92008984], dtype=float32), '/home/ahoag/ML/mars/gallery_app/app/static/hipod/2021-03-06/chunked_images_200x200/ESP_039405_1575_x200-400_y400-600.jpg': array([0.20483288, 0.833408  ], dtype=float32), '/home/ahoag/ML/mars/gallery_app/app/static/hipod/2021-03-06/chunked_images_200x200/ESP_039405_1575_x400-600_y0-200.jpg': array([0.06851205, 0.9664571 ], dtype=float32), '/home/ahoag/ML/mars/gallery_app/app/static/hipod/2021-03-06/chunked_images_200x200/ESP_039405_1575_x400-600_y200-400.jpg': array([0.07612216, 0.95810694], dtype=float32), '/home/ahoag/ML/mars/gallery_app/app/static/hipod/2021-03-06/chunked_images_200x200/ESP_039405_1575_x400-600_y400-600.jpg': array([0.34553057, 0.72020894], dtype=float32), '/home/ahoag/ML/mars/gallery_app/app/static/hipod/2021-03-06/chunked_images_200x200/ESP_039405_1575_x600-800_y0-200.jpg': array([0.96490115, 0.02852991], dtype=float32), '/home/ahoag/ML/mars/gallery_app/app/static/hipod/2021-03-06/chunked_images_200x200/ESP_039405_1575_x600-800_y200-400.jpg': array([0.46255136, 0.55004025], dtype=float32), '/home/ahoag/ML/mars/gallery_app/app/static/hipod/2021-03-06/chunked_images_200x200/ESP_039405_1575_x600-800_y400-600.jpg': array([0.96140283, 0.03436276], dtype=float32)}"
   ]
  },
  {
   "cell_type": "code",
   "execution_count": 11,
   "metadata": {},
   "outputs": [
    {
     "data": {
      "text/plain": [
       "{'/home/ahoag/ML/mars/gallery_app/app/static/hipod/2021-03-06/chunked_images_200x200/ESP_039405_1575_x0-200_y0-200.jpg': array([0.15351805, 0.8867371 ], dtype=float32),\n",
       " '/home/ahoag/ML/mars/gallery_app/app/static/hipod/2021-03-06/chunked_images_200x200/ESP_039405_1575_x0-200_y200-400.jpg': array([0.547948 , 0.4299025], dtype=float32),\n",
       " '/home/ahoag/ML/mars/gallery_app/app/static/hipod/2021-03-06/chunked_images_200x200/ESP_039405_1575_x0-200_y400-600.jpg': array([0.1480481, 0.8924098], dtype=float32),\n",
       " '/home/ahoag/ML/mars/gallery_app/app/static/hipod/2021-03-06/chunked_images_200x200/ESP_039405_1575_x200-400_y0-200.jpg': array([0.05807012, 0.96070176], dtype=float32),\n",
       " '/home/ahoag/ML/mars/gallery_app/app/static/hipod/2021-03-06/chunked_images_200x200/ESP_039405_1575_x200-400_y200-400.jpg': array([0.10921037, 0.92008984], dtype=float32),\n",
       " '/home/ahoag/ML/mars/gallery_app/app/static/hipod/2021-03-06/chunked_images_200x200/ESP_039405_1575_x200-400_y400-600.jpg': array([0.20483288, 0.833408  ], dtype=float32),\n",
       " '/home/ahoag/ML/mars/gallery_app/app/static/hipod/2021-03-06/chunked_images_200x200/ESP_039405_1575_x400-600_y0-200.jpg': array([0.06851205, 0.9664571 ], dtype=float32),\n",
       " '/home/ahoag/ML/mars/gallery_app/app/static/hipod/2021-03-06/chunked_images_200x200/ESP_039405_1575_x400-600_y200-400.jpg': array([0.07612216, 0.95810694], dtype=float32),\n",
       " '/home/ahoag/ML/mars/gallery_app/app/static/hipod/2021-03-06/chunked_images_200x200/ESP_039405_1575_x400-600_y400-600.jpg': array([0.34553057, 0.72020894], dtype=float32),\n",
       " '/home/ahoag/ML/mars/gallery_app/app/static/hipod/2021-03-06/chunked_images_200x200/ESP_039405_1575_x600-800_y0-200.jpg': array([0.96490115, 0.02852991], dtype=float32),\n",
       " '/home/ahoag/ML/mars/gallery_app/app/static/hipod/2021-03-06/chunked_images_200x200/ESP_039405_1575_x600-800_y200-400.jpg': array([0.46255136, 0.55004025], dtype=float32),\n",
       " '/home/ahoag/ML/mars/gallery_app/app/static/hipod/2021-03-06/chunked_images_200x200/ESP_039405_1575_x600-800_y400-600.jpg': array([0.96140283, 0.03436276], dtype=float32)}"
      ]
     },
     "execution_count": 11,
     "metadata": {},
     "output_type": "execute_result"
    }
   ],
   "source": [
    "predictions_dict"
   ]
  },
  {
   "cell_type": "code",
   "execution_count": null,
   "metadata": {},
   "outputs": [],
   "source": []
  }
 ],
 "metadata": {
  "kernelspec": {
   "display_name": "ml",
   "language": "python",
   "name": "ml"
  },
  "language_info": {
   "codemirror_mode": {
    "name": "ipython",
    "version": 3
   },
   "file_extension": ".py",
   "mimetype": "text/x-python",
   "name": "python",
   "nbconvert_exporter": "python",
   "pygments_lexer": "ipython3",
   "version": "3.8.5"
  }
 },
 "nbformat": 4,
 "nbformat_minor": 4
}
