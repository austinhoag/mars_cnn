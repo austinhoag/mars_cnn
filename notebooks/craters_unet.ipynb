{
 "cells": [
  {
   "cell_type": "code",
   "execution_count": 1,
   "metadata": {},
   "outputs": [],
   "source": [
    "import os\n",
    "import tensorflow as tf\n",
    "from tensorflow import keras\n",
    "from tensorflow.keras import layers\n",
    "import shutil\n",
    "from PIL import Image\n",
    "import numpy as np\n",
    "import pandas as pd\n",
    "import glob\n",
    "import matplotlib.pyplot as plt\n",
    "import itertools\n",
    "from sklearn.metrics import precision_score, recall_score, roc_auc_score, roc_curve, confusion_matrix\n"
   ]
  },
  {
   "cell_type": "code",
   "execution_count": 5,
   "metadata": {},
   "outputs": [
    {
     "data": {
      "text/html": [
       "<div>\n",
       "<style scoped>\n",
       "    .dataframe tbody tr th:only-of-type {\n",
       "        vertical-align: middle;\n",
       "    }\n",
       "\n",
       "    .dataframe tbody tr th {\n",
       "        vertical-align: top;\n",
       "    }\n",
       "\n",
       "    .dataframe thead th {\n",
       "        text-align: right;\n",
       "    }\n",
       "</style>\n",
       "<table border=\"1\" class=\"dataframe\">\n",
       "  <thead>\n",
       "    <tr style=\"text-align: right;\">\n",
       "      <th></th>\n",
       "      <th>filename</th>\n",
       "      <th>file_size</th>\n",
       "      <th>file_attributes</th>\n",
       "      <th>region_count</th>\n",
       "      <th>region_id</th>\n",
       "      <th>region_shape_attributes</th>\n",
       "      <th>region_attributes</th>\n",
       "    </tr>\n",
       "  </thead>\n",
       "  <tbody>\n",
       "    <tr>\n",
       "      <th>0</th>\n",
       "      <td>ESP_011261_1960.jpg</td>\n",
       "      <td>712346</td>\n",
       "      <td>{\"caption\":\"\",\"public_domain\":\"no\",\"image_url\"...</td>\n",
       "      <td>1</td>\n",
       "      <td>0</td>\n",
       "      <td>{\"name\":\"circle\",\"cx\":128,\"cy\":494,\"r\":38.013}</td>\n",
       "      <td>{\"name\":\"not_defined\",\"type\":\"unknown\",\"image_...</td>\n",
       "    </tr>\n",
       "    <tr>\n",
       "      <th>1</th>\n",
       "      <td>ESP_011277_1825.jpg</td>\n",
       "      <td>542472</td>\n",
       "      <td>{\"caption\":\"\",\"public_domain\":\"no\",\"image_url\"...</td>\n",
       "      <td>0</td>\n",
       "      <td>0</td>\n",
       "      <td>{}</td>\n",
       "      <td>{}</td>\n",
       "    </tr>\n",
       "    <tr>\n",
       "      <th>2</th>\n",
       "      <td>ESP_011287_2165.jpg</td>\n",
       "      <td>609278</td>\n",
       "      <td>{\"caption\":\"\",\"public_domain\":\"no\",\"image_url\"...</td>\n",
       "      <td>0</td>\n",
       "      <td>0</td>\n",
       "      <td>{}</td>\n",
       "      <td>{}</td>\n",
       "    </tr>\n",
       "    <tr>\n",
       "      <th>3</th>\n",
       "      <td>ESP_011289_1950.jpg</td>\n",
       "      <td>503972</td>\n",
       "      <td>{\"caption\":\"\",\"public_domain\":\"no\",\"image_url\"...</td>\n",
       "      <td>0</td>\n",
       "      <td>0</td>\n",
       "      <td>{}</td>\n",
       "      <td>{}</td>\n",
       "    </tr>\n",
       "    <tr>\n",
       "      <th>4</th>\n",
       "      <td>ESP_011290_1800.jpg</td>\n",
       "      <td>579742</td>\n",
       "      <td>{\"caption\":\"\",\"public_domain\":\"no\",\"image_url\"...</td>\n",
       "      <td>0</td>\n",
       "      <td>0</td>\n",
       "      <td>{}</td>\n",
       "      <td>{}</td>\n",
       "    </tr>\n",
       "    <tr>\n",
       "      <th>...</th>\n",
       "      <td>...</td>\n",
       "      <td>...</td>\n",
       "      <td>...</td>\n",
       "      <td>...</td>\n",
       "      <td>...</td>\n",
       "      <td>...</td>\n",
       "      <td>...</td>\n",
       "    </tr>\n",
       "    <tr>\n",
       "      <th>2060</th>\n",
       "      <td>PSP_010877_1610.jpg</td>\n",
       "      <td>481840</td>\n",
       "      <td>{\"caption\":\"\",\"public_domain\":\"no\",\"image_url\"...</td>\n",
       "      <td>0</td>\n",
       "      <td>0</td>\n",
       "      <td>{}</td>\n",
       "      <td>{}</td>\n",
       "    </tr>\n",
       "    <tr>\n",
       "      <th>2061</th>\n",
       "      <td>PSP_010882_2040.jpg</td>\n",
       "      <td>668592</td>\n",
       "      <td>{\"caption\":\"\",\"public_domain\":\"no\",\"image_url\"...</td>\n",
       "      <td>0</td>\n",
       "      <td>0</td>\n",
       "      <td>{}</td>\n",
       "      <td>{}</td>\n",
       "    </tr>\n",
       "    <tr>\n",
       "      <th>2062</th>\n",
       "      <td>PSP_010888_1510.jpg</td>\n",
       "      <td>494850</td>\n",
       "      <td>{\"caption\":\"\",\"public_domain\":\"no\",\"image_url\"...</td>\n",
       "      <td>0</td>\n",
       "      <td>0</td>\n",
       "      <td>{}</td>\n",
       "      <td>{}</td>\n",
       "    </tr>\n",
       "    <tr>\n",
       "      <th>2063</th>\n",
       "      <td>PSP_010888_2030.jpg</td>\n",
       "      <td>586660</td>\n",
       "      <td>{\"caption\":\"\",\"public_domain\":\"no\",\"image_url\"...</td>\n",
       "      <td>0</td>\n",
       "      <td>0</td>\n",
       "      <td>{}</td>\n",
       "      <td>{}</td>\n",
       "    </tr>\n",
       "    <tr>\n",
       "      <th>2064</th>\n",
       "      <td>TRA_000823_1720.jpg</td>\n",
       "      <td>744667</td>\n",
       "      <td>{\"caption\":\"\",\"public_domain\":\"no\",\"image_url\"...</td>\n",
       "      <td>0</td>\n",
       "      <td>0</td>\n",
       "      <td>{}</td>\n",
       "      <td>{}</td>\n",
       "    </tr>\n",
       "  </tbody>\n",
       "</table>\n",
       "<p>2065 rows × 7 columns</p>\n",
       "</div>"
      ],
      "text/plain": [
       "                 filename  file_size  \\\n",
       "0     ESP_011261_1960.jpg     712346   \n",
       "1     ESP_011277_1825.jpg     542472   \n",
       "2     ESP_011287_2165.jpg     609278   \n",
       "3     ESP_011289_1950.jpg     503972   \n",
       "4     ESP_011290_1800.jpg     579742   \n",
       "...                   ...        ...   \n",
       "2060  PSP_010877_1610.jpg     481840   \n",
       "2061  PSP_010882_2040.jpg     668592   \n",
       "2062  PSP_010888_1510.jpg     494850   \n",
       "2063  PSP_010888_2030.jpg     586660   \n",
       "2064  TRA_000823_1720.jpg     744667   \n",
       "\n",
       "                                        file_attributes  region_count  \\\n",
       "0     {\"caption\":\"\",\"public_domain\":\"no\",\"image_url\"...             1   \n",
       "1     {\"caption\":\"\",\"public_domain\":\"no\",\"image_url\"...             0   \n",
       "2     {\"caption\":\"\",\"public_domain\":\"no\",\"image_url\"...             0   \n",
       "3     {\"caption\":\"\",\"public_domain\":\"no\",\"image_url\"...             0   \n",
       "4     {\"caption\":\"\",\"public_domain\":\"no\",\"image_url\"...             0   \n",
       "...                                                 ...           ...   \n",
       "2060  {\"caption\":\"\",\"public_domain\":\"no\",\"image_url\"...             0   \n",
       "2061  {\"caption\":\"\",\"public_domain\":\"no\",\"image_url\"...             0   \n",
       "2062  {\"caption\":\"\",\"public_domain\":\"no\",\"image_url\"...             0   \n",
       "2063  {\"caption\":\"\",\"public_domain\":\"no\",\"image_url\"...             0   \n",
       "2064  {\"caption\":\"\",\"public_domain\":\"no\",\"image_url\"...             0   \n",
       "\n",
       "      region_id                         region_shape_attributes  \\\n",
       "0             0  {\"name\":\"circle\",\"cx\":128,\"cy\":494,\"r\":38.013}   \n",
       "1             0                                              {}   \n",
       "2             0                                              {}   \n",
       "3             0                                              {}   \n",
       "4             0                                              {}   \n",
       "...         ...                                             ...   \n",
       "2060          0                                              {}   \n",
       "2061          0                                              {}   \n",
       "2062          0                                              {}   \n",
       "2063          0                                              {}   \n",
       "2064          0                                              {}   \n",
       "\n",
       "                                      region_attributes  \n",
       "0     {\"name\":\"not_defined\",\"type\":\"unknown\",\"image_...  \n",
       "1                                                    {}  \n",
       "2                                                    {}  \n",
       "3                                                    {}  \n",
       "4                                                    {}  \n",
       "...                                                 ...  \n",
       "2060                                                 {}  \n",
       "2061                                                 {}  \n",
       "2062                                                 {}  \n",
       "2063                                                 {}  \n",
       "2064                                                 {}  \n",
       "\n",
       "[2065 rows x 7 columns]"
      ]
     },
     "execution_count": 5,
     "metadata": {},
     "output_type": "execute_result"
    }
   ],
   "source": [
    "unet_dir = '/home/ahoag/ML/mars/unet'\n",
    "img_save_dir = os.path.join(unet_dir,'images_for_cnn')\n",
    "mask_save_dir = os.path.join(unet_dir,'masks')\n",
    "annotation_file = os.path.join(unet_dir,\"annotations_800x600_2021Apr30.csv\")\n",
    "df = pd.read_csv(annotation_file)\n",
    "df"
   ]
  },
  {
   "cell_type": "code",
   "execution_count": null,
   "metadata": {},
   "outputs": [],
   "source": [
    "# First get rid of files that I marked as \"is_deimos\" in the file attribute. These aren't just deimos but\n",
    "# are bad for one reason or another "
   ]
  },
  {
   "cell_type": "code",
   "execution_count": null,
   "metadata": {},
   "outputs": [],
   "source": [
    "def parse(x):\n",
    "    file_attr = eval(x)\n",
    "    is_deimos = file_attr['is_deimos']\n",
    "    if is_deimos == 'yes':\n",
    "        return 1\n",
    "    else:\n",
    "        return 0"
   ]
  },
  {
   "cell_type": "code",
   "execution_count": null,
   "metadata": {},
   "outputs": [],
   "source": [
    "df['is_deimos'] = df.file_attributes.apply(parse)"
   ]
  },
  {
   "cell_type": "code",
   "execution_count": null,
   "metadata": {},
   "outputs": [],
   "source": [
    "df_good = df.loc[df['is_deimos']==0,:]\n",
    "df_good"
   ]
  },
  {
   "cell_type": "code",
   "execution_count": null,
   "metadata": {},
   "outputs": [],
   "source": [
    "# Now make a df from just files where I marked craters\n",
    "df_craters = df_good.loc[df_good['region_shape_attributes'] != '{}',:]\n",
    "df_craters"
   ]
  },
  {
   "cell_type": "code",
   "execution_count": null,
   "metadata": {},
   "outputs": [],
   "source": []
  },
  {
   "cell_type": "code",
   "execution_count": 4,
   "metadata": {},
   "outputs": [
    {
     "ename": "NameError",
     "evalue": "name 'df_craters' is not defined",
     "output_type": "error",
     "traceback": [
      "\u001b[0;31m---------------------------------------------------------------------------\u001b[0m",
      "\u001b[0;31mNameError\u001b[0m                                 Traceback (most recent call last)",
      "\u001b[0;32m<ipython-input-4-53003d47220d>\u001b[0m in \u001b[0;36m<module>\u001b[0;34m\u001b[0m\n\u001b[1;32m      7\u001b[0m \u001b[0mmask_save_dir\u001b[0m \u001b[0;34m=\u001b[0m \u001b[0mos\u001b[0m\u001b[0;34m.\u001b[0m\u001b[0mpath\u001b[0m\u001b[0;34m.\u001b[0m\u001b[0mjoin\u001b[0m\u001b[0;34m(\u001b[0m\u001b[0munet_dir\u001b[0m\u001b[0;34m,\u001b[0m\u001b[0;34m'masks'\u001b[0m\u001b[0;34m)\u001b[0m\u001b[0;34m\u001b[0m\u001b[0;34m\u001b[0m\u001b[0m\n\u001b[1;32m      8\u001b[0m \u001b[0mprocessed_filenames\u001b[0m \u001b[0;34m=\u001b[0m \u001b[0;34m[\u001b[0m\u001b[0;34m]\u001b[0m\u001b[0;34m\u001b[0m\u001b[0;34m\u001b[0m\u001b[0m\n\u001b[0;32m----> 9\u001b[0;31m \u001b[0;32mfor\u001b[0m \u001b[0mii\u001b[0m\u001b[0;34m,\u001b[0m\u001b[0mrow\u001b[0m \u001b[0;32min\u001b[0m \u001b[0mdf_craters\u001b[0m\u001b[0;34m.\u001b[0m\u001b[0miterrows\u001b[0m\u001b[0;34m(\u001b[0m\u001b[0;34m)\u001b[0m\u001b[0;34m:\u001b[0m\u001b[0;34m\u001b[0m\u001b[0;34m\u001b[0m\u001b[0m\n\u001b[0m\u001b[1;32m     10\u001b[0m     \u001b[0mfilename\u001b[0m \u001b[0;34m=\u001b[0m \u001b[0mrow\u001b[0m\u001b[0;34m[\u001b[0m\u001b[0;34m'filename'\u001b[0m\u001b[0;34m]\u001b[0m\u001b[0;34m\u001b[0m\u001b[0;34m\u001b[0m\u001b[0m\n\u001b[1;32m     11\u001b[0m \u001b[0;31m#     if filename != \"PSP_010667_1920.jpg\":\u001b[0m\u001b[0;34m\u001b[0m\u001b[0;34m\u001b[0m\u001b[0;34m\u001b[0m\u001b[0m\n",
      "\u001b[0;31mNameError\u001b[0m: name 'df_craters' is not defined"
     ]
    }
   ],
   "source": [
    "# OK so we are left with 270 craters.\n",
    "# If a file has multiple annotations they are saved as separate rows. So when we loop through the list we need to \n",
    "# check to make sure we grab all annotations and add them to the seg mask. \n",
    "# Now we loop through those and make corresponding masks and save them out\n",
    "img_dir = '/home/ahoag/ML/mars/downloaded_images_800x600'\n",
    "\n",
    "processed_filenames = []\n",
    "for ii,row in df_craters.iterrows():\n",
    "    filename = row['filename']\n",
    "#     if filename != \"PSP_010667_1920.jpg\":\n",
    "#         continue\n",
    "    print(filename)\n",
    "    if filename in processed_filenames:\n",
    "        print(\"Filename already processed\")\n",
    "        print()\n",
    "        continue\n",
    "    print(\"Filename not already processed\")\n",
    "    full_filename = os.path.join(img_dir,filename)\n",
    "    # Copy over images to their own directory\n",
    "    savename_img = os.path.join(img_save_dir,filename)\n",
    "    shutil.copyfile(full_filename,savename_img)\n",
    "    # initialize segmask\n",
    "    seg = np.zeros((600,800),dtype='uint8')\n",
    "    nrows, ncols = seg.shape\n",
    "    row, col = np.ogrid[:nrows, :ncols]\n",
    "    # find all annotations for this filename and add them to the segmask\n",
    "    df_this_filename = df_craters.loc[df_craters['filename']==filename,:]\n",
    "    shp_dicts_this_filename = [eval(x) for x in df_this_filename['region_shape_attributes']]\n",
    "    for shp_dict in shp_dicts_this_filename:\n",
    "        disk_mask = ((row - shp_dict['cy'])**2 + (col - shp_dict['cx'])**2 <\n",
    "                            (shp_dict['r'])**2)\n",
    "        seg[disk_mask] = 1\n",
    "    mask_im = Image.fromarray(seg)\n",
    "    savename = os.path.join(mask_save_dir,filename.replace('.jpg','_mask.png'))\n",
    "    mask_im.save(savename)\n",
    "    mask_im.close()\n",
    "    processed_filenames.append(filename)\n",
    "    print(\"Saved mask\")\n",
    "    print()"
   ]
  },
  {
   "cell_type": "code",
   "execution_count": null,
   "metadata": {},
   "outputs": [],
   "source": [
    "im_recov = Image.open(os.path.join(mask_save_dir,\"ESP_011765_1780_mask.png\"))\n",
    "plt.imshow(im_recov)"
   ]
  },
  {
   "cell_type": "code",
   "execution_count": null,
   "metadata": {},
   "outputs": [],
   "source": [
    "# There should be two craters in this mask"
   ]
  },
  {
   "cell_type": "markdown",
   "metadata": {},
   "source": [
    "# Make keras datasets"
   ]
  },
  {
   "cell_type": "code",
   "execution_count": 12,
   "metadata": {},
   "outputs": [
    {
     "name": "stdout",
     "output_type": "stream",
     "text": [
      "Number of samples: 183\n",
      "/home/ahoag/ML/mars/unet/images_for_cnn/ESP_011261_1960.jpg | /home/ahoag/ML/mars/unet/masks/ESP_011261_1960_mask.png\n",
      "/home/ahoag/ML/mars/unet/images_for_cnn/ESP_011386_2065.jpg | /home/ahoag/ML/mars/unet/masks/ESP_011386_2065_mask.png\n",
      "/home/ahoag/ML/mars/unet/images_for_cnn/ESP_011677_1655.jpg | /home/ahoag/ML/mars/unet/masks/ESP_011677_1655_mask.png\n",
      "/home/ahoag/ML/mars/unet/images_for_cnn/ESP_011732_1595.jpg | /home/ahoag/ML/mars/unet/masks/ESP_011732_1595_mask.png\n",
      "/home/ahoag/ML/mars/unet/images_for_cnn/ESP_011765_1780.jpg | /home/ahoag/ML/mars/unet/masks/ESP_011765_1780_mask.png\n",
      "/home/ahoag/ML/mars/unet/images_for_cnn/ESP_011834_1605.jpg | /home/ahoag/ML/mars/unet/masks/ESP_011834_1605_mask.png\n",
      "/home/ahoag/ML/mars/unet/images_for_cnn/ESP_011898_2175.jpg | /home/ahoag/ML/mars/unet/masks/ESP_011898_2175_mask.png\n",
      "/home/ahoag/ML/mars/unet/images_for_cnn/ESP_012425_1455.jpg | /home/ahoag/ML/mars/unet/masks/ESP_012425_1455_mask.png\n",
      "/home/ahoag/ML/mars/unet/images_for_cnn/ESP_012435_2015.jpg | /home/ahoag/ML/mars/unet/masks/ESP_012435_2015_mask.png\n",
      "/home/ahoag/ML/mars/unet/images_for_cnn/ESP_012560_1660.jpg | /home/ahoag/ML/mars/unet/masks/ESP_012560_1660_mask.png\n"
     ]
    }
   ],
   "source": [
    "input_dir = img_save_dir\n",
    "target_dir = mask_save_dir\n",
    "img_size = (160, 160)\n",
    "num_classes = 2\n",
    "batch_size = 16\n",
    "\n",
    "input_img_paths = sorted(\n",
    "    [\n",
    "        os.path.join(input_dir, fname)\n",
    "        for fname in os.listdir(input_dir)\n",
    "        if fname.endswith(\".jpg\")\n",
    "    ]\n",
    ")\n",
    "target_img_paths = sorted(\n",
    "    [\n",
    "        os.path.join(target_dir, fname)\n",
    "        for fname in os.listdir(target_dir)\n",
    "        if fname.endswith(\".png\") and not fname.startswith(\".\")\n",
    "    ]\n",
    ")\n",
    "\n",
    "print(\"Number of samples:\", len(input_img_paths))\n",
    "\n",
    "for input_path, target_path in zip(input_img_paths[:10], target_img_paths[:10]):\n",
    "    print(input_path, \"|\", target_path)"
   ]
  },
  {
   "cell_type": "markdown",
   "metadata": {},
   "source": [
    "## Load and vectorize batches of data"
   ]
  },
  {
   "cell_type": "code",
   "execution_count": 13,
   "metadata": {},
   "outputs": [],
   "source": [
    "from tensorflow import keras\n",
    "import numpy as np\n",
    "from tensorflow.keras.preprocessing.image import load_img\n",
    "\n",
    "\n",
    "class OxfordPets(keras.utils.Sequence):\n",
    "    \"\"\"Helper to iterate over the data (as Numpy arrays).\"\"\"\n",
    "\n",
    "    def __init__(self, batch_size, img_size, input_img_paths, target_img_paths):\n",
    "        self.batch_size = batch_size\n",
    "        self.img_size = img_size\n",
    "        self.input_img_paths = input_img_paths\n",
    "        self.target_img_paths = target_img_paths\n",
    "\n",
    "    def __len__(self):\n",
    "        return len(self.target_img_paths) // self.batch_size\n",
    "\n",
    "    def __getitem__(self, idx):\n",
    "        \"\"\"Returns tuple (input, target) correspond to batch #idx.\"\"\"\n",
    "        i = idx * self.batch_size\n",
    "        batch_input_img_paths = self.input_img_paths[i : i + self.batch_size]\n",
    "        batch_target_img_paths = self.target_img_paths[i : i + self.batch_size]\n",
    "        x = np.zeros((self.batch_size,) + self.img_size + (3,), dtype=\"float32\")\n",
    "        for j, path in enumerate(batch_input_img_paths):\n",
    "            img = load_img(path, target_size=self.img_size)\n",
    "            x[j] = img\n",
    "        y = np.zeros((self.batch_size,) + self.img_size + (1,), dtype=\"uint8\")\n",
    "        for j, path in enumerate(batch_target_img_paths):\n",
    "            img = load_img(path, target_size=self.img_size, color_mode=\"grayscale\")\n",
    "            y[j] = np.expand_dims(img, 2)\n",
    "#             # Ground truth labels are 1, 2, 3. Subtract one to make them 0, 1, 2:\n",
    "#             y[j] -= 1\n",
    "        return x, y"
   ]
  },
  {
   "cell_type": "code",
   "execution_count": 39,
   "metadata": {},
   "outputs": [],
   "source": [
    "# Use data augmentation\n",
    "data_augmentation = keras.Sequential(\n",
    "    [\n",
    "        layers.experimental.preprocessing.RandomFlip(\"horizontal\"),\n",
    "        layers.experimental.preprocessing.RandomRotation(0.1),\n",
    "    ]\n",
    ")"
   ]
  },
  {
   "cell_type": "code",
   "execution_count": 40,
   "metadata": {},
   "outputs": [
    {
     "name": "stdout",
     "output_type": "stream",
     "text": [
      "Model: \"model\"\n",
      "__________________________________________________________________________________________________\n",
      "Layer (type)                    Output Shape         Param #     Connected to                     \n",
      "==================================================================================================\n",
      "input_1 (InputLayer)            [(None, 160, 160, 3) 0                                            \n",
      "__________________________________________________________________________________________________\n",
      "sequential (Sequential)         (None, 160, 160, 3)  0           input_1[0][0]                    \n",
      "__________________________________________________________________________________________________\n",
      "conv2d (Conv2D)                 (None, 80, 80, 32)   896         sequential[0][0]                 \n",
      "__________________________________________________________________________________________________\n",
      "batch_normalization (BatchNorma (None, 80, 80, 32)   128         conv2d[0][0]                     \n",
      "__________________________________________________________________________________________________\n",
      "activation (Activation)         (None, 80, 80, 32)   0           batch_normalization[0][0]        \n",
      "__________________________________________________________________________________________________\n",
      "activation_1 (Activation)       (None, 80, 80, 32)   0           activation[0][0]                 \n",
      "__________________________________________________________________________________________________\n",
      "separable_conv2d (SeparableConv (None, 80, 80, 64)   2400        activation_1[0][0]               \n",
      "__________________________________________________________________________________________________\n",
      "batch_normalization_1 (BatchNor (None, 80, 80, 64)   256         separable_conv2d[0][0]           \n",
      "__________________________________________________________________________________________________\n",
      "activation_2 (Activation)       (None, 80, 80, 64)   0           batch_normalization_1[0][0]      \n",
      "__________________________________________________________________________________________________\n",
      "separable_conv2d_1 (SeparableCo (None, 80, 80, 64)   4736        activation_2[0][0]               \n",
      "__________________________________________________________________________________________________\n",
      "batch_normalization_2 (BatchNor (None, 80, 80, 64)   256         separable_conv2d_1[0][0]         \n",
      "__________________________________________________________________________________________________\n",
      "max_pooling2d (MaxPooling2D)    (None, 40, 40, 64)   0           batch_normalization_2[0][0]      \n",
      "__________________________________________________________________________________________________\n",
      "conv2d_1 (Conv2D)               (None, 40, 40, 64)   2112        activation[0][0]                 \n",
      "__________________________________________________________________________________________________\n",
      "add (Add)                       (None, 40, 40, 64)   0           max_pooling2d[0][0]              \n",
      "                                                                 conv2d_1[0][0]                   \n",
      "__________________________________________________________________________________________________\n",
      "activation_3 (Activation)       (None, 40, 40, 64)   0           add[0][0]                        \n",
      "__________________________________________________________________________________________________\n",
      "separable_conv2d_2 (SeparableCo (None, 40, 40, 128)  8896        activation_3[0][0]               \n",
      "__________________________________________________________________________________________________\n",
      "batch_normalization_3 (BatchNor (None, 40, 40, 128)  512         separable_conv2d_2[0][0]         \n",
      "__________________________________________________________________________________________________\n",
      "activation_4 (Activation)       (None, 40, 40, 128)  0           batch_normalization_3[0][0]      \n",
      "__________________________________________________________________________________________________\n",
      "separable_conv2d_3 (SeparableCo (None, 40, 40, 128)  17664       activation_4[0][0]               \n",
      "__________________________________________________________________________________________________\n",
      "batch_normalization_4 (BatchNor (None, 40, 40, 128)  512         separable_conv2d_3[0][0]         \n",
      "__________________________________________________________________________________________________\n",
      "max_pooling2d_1 (MaxPooling2D)  (None, 20, 20, 128)  0           batch_normalization_4[0][0]      \n",
      "__________________________________________________________________________________________________\n",
      "conv2d_2 (Conv2D)               (None, 20, 20, 128)  8320        add[0][0]                        \n",
      "__________________________________________________________________________________________________\n",
      "add_1 (Add)                     (None, 20, 20, 128)  0           max_pooling2d_1[0][0]            \n",
      "                                                                 conv2d_2[0][0]                   \n",
      "__________________________________________________________________________________________________\n",
      "activation_5 (Activation)       (None, 20, 20, 128)  0           add_1[0][0]                      \n",
      "__________________________________________________________________________________________________\n",
      "separable_conv2d_4 (SeparableCo (None, 20, 20, 256)  34176       activation_5[0][0]               \n",
      "__________________________________________________________________________________________________\n",
      "batch_normalization_5 (BatchNor (None, 20, 20, 256)  1024        separable_conv2d_4[0][0]         \n",
      "__________________________________________________________________________________________________\n",
      "activation_6 (Activation)       (None, 20, 20, 256)  0           batch_normalization_5[0][0]      \n",
      "__________________________________________________________________________________________________\n",
      "separable_conv2d_5 (SeparableCo (None, 20, 20, 256)  68096       activation_6[0][0]               \n",
      "__________________________________________________________________________________________________\n",
      "batch_normalization_6 (BatchNor (None, 20, 20, 256)  1024        separable_conv2d_5[0][0]         \n",
      "__________________________________________________________________________________________________\n",
      "max_pooling2d_2 (MaxPooling2D)  (None, 10, 10, 256)  0           batch_normalization_6[0][0]      \n",
      "__________________________________________________________________________________________________\n",
      "conv2d_3 (Conv2D)               (None, 10, 10, 256)  33024       add_1[0][0]                      \n",
      "__________________________________________________________________________________________________\n",
      "add_2 (Add)                     (None, 10, 10, 256)  0           max_pooling2d_2[0][0]            \n",
      "                                                                 conv2d_3[0][0]                   \n",
      "__________________________________________________________________________________________________\n",
      "activation_7 (Activation)       (None, 10, 10, 256)  0           add_2[0][0]                      \n",
      "__________________________________________________________________________________________________\n",
      "conv2d_transpose (Conv2DTranspo (None, 10, 10, 256)  590080      activation_7[0][0]               \n",
      "__________________________________________________________________________________________________\n",
      "batch_normalization_7 (BatchNor (None, 10, 10, 256)  1024        conv2d_transpose[0][0]           \n",
      "__________________________________________________________________________________________________\n",
      "activation_8 (Activation)       (None, 10, 10, 256)  0           batch_normalization_7[0][0]      \n",
      "__________________________________________________________________________________________________\n",
      "conv2d_transpose_1 (Conv2DTrans (None, 10, 10, 256)  590080      activation_8[0][0]               \n",
      "__________________________________________________________________________________________________\n",
      "batch_normalization_8 (BatchNor (None, 10, 10, 256)  1024        conv2d_transpose_1[0][0]         \n",
      "__________________________________________________________________________________________________\n",
      "up_sampling2d_1 (UpSampling2D)  (None, 20, 20, 256)  0           add_2[0][0]                      \n",
      "__________________________________________________________________________________________________\n",
      "up_sampling2d (UpSampling2D)    (None, 20, 20, 256)  0           batch_normalization_8[0][0]      \n",
      "__________________________________________________________________________________________________\n",
      "conv2d_4 (Conv2D)               (None, 20, 20, 256)  65792       up_sampling2d_1[0][0]            \n",
      "__________________________________________________________________________________________________\n",
      "add_3 (Add)                     (None, 20, 20, 256)  0           up_sampling2d[0][0]              \n",
      "                                                                 conv2d_4[0][0]                   \n",
      "__________________________________________________________________________________________________\n",
      "activation_9 (Activation)       (None, 20, 20, 256)  0           add_3[0][0]                      \n",
      "__________________________________________________________________________________________________\n",
      "conv2d_transpose_2 (Conv2DTrans (None, 20, 20, 128)  295040      activation_9[0][0]               \n",
      "__________________________________________________________________________________________________\n",
      "batch_normalization_9 (BatchNor (None, 20, 20, 128)  512         conv2d_transpose_2[0][0]         \n",
      "__________________________________________________________________________________________________\n",
      "activation_10 (Activation)      (None, 20, 20, 128)  0           batch_normalization_9[0][0]      \n",
      "__________________________________________________________________________________________________\n",
      "conv2d_transpose_3 (Conv2DTrans (None, 20, 20, 128)  147584      activation_10[0][0]              \n",
      "__________________________________________________________________________________________________\n",
      "batch_normalization_10 (BatchNo (None, 20, 20, 128)  512         conv2d_transpose_3[0][0]         \n",
      "__________________________________________________________________________________________________\n",
      "up_sampling2d_3 (UpSampling2D)  (None, 40, 40, 256)  0           add_3[0][0]                      \n",
      "__________________________________________________________________________________________________\n",
      "up_sampling2d_2 (UpSampling2D)  (None, 40, 40, 128)  0           batch_normalization_10[0][0]     \n",
      "__________________________________________________________________________________________________\n",
      "conv2d_5 (Conv2D)               (None, 40, 40, 128)  32896       up_sampling2d_3[0][0]            \n",
      "__________________________________________________________________________________________________\n",
      "add_4 (Add)                     (None, 40, 40, 128)  0           up_sampling2d_2[0][0]            \n",
      "                                                                 conv2d_5[0][0]                   \n",
      "__________________________________________________________________________________________________\n",
      "activation_11 (Activation)      (None, 40, 40, 128)  0           add_4[0][0]                      \n",
      "__________________________________________________________________________________________________\n",
      "conv2d_transpose_4 (Conv2DTrans (None, 40, 40, 64)   73792       activation_11[0][0]              \n",
      "__________________________________________________________________________________________________\n",
      "batch_normalization_11 (BatchNo (None, 40, 40, 64)   256         conv2d_transpose_4[0][0]         \n",
      "__________________________________________________________________________________________________\n",
      "activation_12 (Activation)      (None, 40, 40, 64)   0           batch_normalization_11[0][0]     \n",
      "__________________________________________________________________________________________________\n",
      "conv2d_transpose_5 (Conv2DTrans (None, 40, 40, 64)   36928       activation_12[0][0]              \n",
      "__________________________________________________________________________________________________\n",
      "batch_normalization_12 (BatchNo (None, 40, 40, 64)   256         conv2d_transpose_5[0][0]         \n",
      "__________________________________________________________________________________________________\n",
      "up_sampling2d_5 (UpSampling2D)  (None, 80, 80, 128)  0           add_4[0][0]                      \n",
      "__________________________________________________________________________________________________\n",
      "up_sampling2d_4 (UpSampling2D)  (None, 80, 80, 64)   0           batch_normalization_12[0][0]     \n",
      "__________________________________________________________________________________________________\n",
      "conv2d_6 (Conv2D)               (None, 80, 80, 64)   8256        up_sampling2d_5[0][0]            \n",
      "__________________________________________________________________________________________________\n",
      "add_5 (Add)                     (None, 80, 80, 64)   0           up_sampling2d_4[0][0]            \n",
      "                                                                 conv2d_6[0][0]                   \n",
      "__________________________________________________________________________________________________\n",
      "activation_13 (Activation)      (None, 80, 80, 64)   0           add_5[0][0]                      \n",
      "__________________________________________________________________________________________________\n",
      "conv2d_transpose_6 (Conv2DTrans (None, 80, 80, 32)   18464       activation_13[0][0]              \n",
      "__________________________________________________________________________________________________\n",
      "batch_normalization_13 (BatchNo (None, 80, 80, 32)   128         conv2d_transpose_6[0][0]         \n",
      "__________________________________________________________________________________________________\n",
      "activation_14 (Activation)      (None, 80, 80, 32)   0           batch_normalization_13[0][0]     \n",
      "__________________________________________________________________________________________________\n",
      "conv2d_transpose_7 (Conv2DTrans (None, 80, 80, 32)   9248        activation_14[0][0]              \n",
      "__________________________________________________________________________________________________\n",
      "batch_normalization_14 (BatchNo (None, 80, 80, 32)   128         conv2d_transpose_7[0][0]         \n",
      "__________________________________________________________________________________________________\n",
      "up_sampling2d_7 (UpSampling2D)  (None, 160, 160, 64) 0           add_5[0][0]                      \n",
      "__________________________________________________________________________________________________\n",
      "up_sampling2d_6 (UpSampling2D)  (None, 160, 160, 32) 0           batch_normalization_14[0][0]     \n",
      "__________________________________________________________________________________________________\n",
      "conv2d_7 (Conv2D)               (None, 160, 160, 32) 2080        up_sampling2d_7[0][0]            \n",
      "__________________________________________________________________________________________________\n",
      "add_6 (Add)                     (None, 160, 160, 32) 0           up_sampling2d_6[0][0]            \n",
      "                                                                 conv2d_7[0][0]                   \n",
      "__________________________________________________________________________________________________\n",
      "conv2d_8 (Conv2D)               (None, 160, 160, 1)  33          add_6[0][0]                      \n",
      "==================================================================================================\n",
      "Total params: 2,058,145\n",
      "Trainable params: 2,054,369\n",
      "Non-trainable params: 3,776\n",
      "__________________________________________________________________________________________________\n"
     ]
    }
   ],
   "source": [
    "def get_model(img_size, num_classes):\n",
    "    inputs = keras.Input(shape=img_size + (3,))\n",
    "    x = data_augmentation(inputs)\n",
    "\n",
    "    ### [First half of the network: downsampling inputs] ###\n",
    "\n",
    "    # Entry block\n",
    "    x = layers.Conv2D(32, 3, strides=2, padding=\"same\")(x)\n",
    "    x = layers.BatchNormalization()(x)\n",
    "    x = layers.Activation(\"relu\")(x)\n",
    "\n",
    "    previous_block_activation = x  # Set aside residual\n",
    "\n",
    "    # Blocks 1, 2, 3 are identical apart from the feature depth.\n",
    "    for filters in [64, 128, 256]:\n",
    "        x = layers.Activation(\"relu\")(x)\n",
    "        x = layers.SeparableConv2D(filters, 3, padding=\"same\")(x)\n",
    "        x = layers.BatchNormalization()(x)\n",
    "\n",
    "        x = layers.Activation(\"relu\")(x)\n",
    "        x = layers.SeparableConv2D(filters, 3, padding=\"same\")(x)\n",
    "        x = layers.BatchNormalization()(x)\n",
    "\n",
    "        x = layers.MaxPooling2D(3, strides=2, padding=\"same\")(x)\n",
    "\n",
    "        # Project residual\n",
    "        residual = layers.Conv2D(filters, 1, strides=2, padding=\"same\")(\n",
    "            previous_block_activation\n",
    "        )\n",
    "        x = layers.add([x, residual])  # Add back residual\n",
    "        previous_block_activation = x  # Set aside next residual\n",
    "\n",
    "    ### [Second half of the network: upsampling inputs] ###\n",
    "\n",
    "    for filters in [256, 128, 64, 32]:\n",
    "        x = layers.Activation(\"relu\")(x)\n",
    "        x = layers.Conv2DTranspose(filters, 3, padding=\"same\")(x)\n",
    "        x = layers.BatchNormalization()(x)\n",
    "\n",
    "        x = layers.Activation(\"relu\")(x)\n",
    "        x = layers.Conv2DTranspose(filters, 3, padding=\"same\")(x)\n",
    "        x = layers.BatchNormalization()(x)\n",
    "\n",
    "        x = layers.UpSampling2D(2)(x)\n",
    "\n",
    "        # Project residual\n",
    "        residual = layers.UpSampling2D(2)(previous_block_activation)\n",
    "        residual = layers.Conv2D(filters, 1, padding=\"same\")(residual)\n",
    "        x = layers.add([x, residual])  # Add back residual\n",
    "        previous_block_activation = x  # Set aside next residual\n",
    "\n",
    "    # Add a per-pixel classification layer\n",
    "    outputs = layers.Conv2D(1, 1, activation=\"sigmoid\", padding=\"same\")(x)\n",
    "\n",
    "    # Define the model\n",
    "    model = keras.Model(inputs, outputs)\n",
    "    return model\n",
    "\n",
    "\n",
    "# Free up RAM in case the model definition cells were run multiple times\n",
    "keras.backend.clear_session()\n",
    "\n",
    "# Build model\n",
    "model = get_model(img_size, num_classes)\n",
    "model.summary()"
   ]
  },
  {
   "cell_type": "code",
   "execution_count": 15,
   "metadata": {},
   "outputs": [],
   "source": [
    "import random\n",
    "\n",
    "# Split our img paths into a training and a validation set\n",
    "val_samples = 20 # out of 183 files so basically 30%\n",
    "random.Random(1337).shuffle(input_img_paths)\n",
    "random.Random(1337).shuffle(target_img_paths)\n",
    "train_input_img_paths = input_img_paths[:-val_samples]\n",
    "train_target_img_paths = target_img_paths[:-val_samples]\n",
    "val_input_img_paths = input_img_paths[-val_samples:]\n",
    "val_target_img_paths = target_img_paths[-val_samples:]\n",
    "\n",
    "# Instantiate data Sequences for each split\n",
    "train_gen = OxfordPets(\n",
    "    batch_size, img_size, train_input_img_paths, train_target_img_paths\n",
    ")\n",
    "val_gen = OxfordPets(batch_size, img_size, val_input_img_paths, val_target_img_paths)"
   ]
  },
  {
   "cell_type": "code",
   "execution_count": 31,
   "metadata": {},
   "outputs": [
    {
     "name": "stdout",
     "output_type": "stream",
     "text": [
      "163\n",
      "20\n"
     ]
    }
   ],
   "source": [
    "# verify it worked - should be 133 in training set, 50 in validation set\n",
    "print(len(train_gen.input_img_paths))\n",
    "print(len(val_gen.input_img_paths))"
   ]
  },
  {
   "cell_type": "code",
   "execution_count": 41,
   "metadata": {},
   "outputs": [
    {
     "name": "stdout",
     "output_type": "stream",
     "text": [
      "Epoch 1/25\n",
      "10/10 [==============================] - 9s 766ms/step - loss: 0.8783 - val_loss: 5.9625\n",
      "Epoch 2/25\n",
      "10/10 [==============================] - 7s 706ms/step - loss: 0.5630 - val_loss: 3.6782\n",
      "Epoch 3/25\n",
      "10/10 [==============================] - 7s 700ms/step - loss: 0.3802 - val_loss: 1.7262\n",
      "Epoch 4/25\n",
      "10/10 [==============================] - 7s 697ms/step - loss: 0.3401 - val_loss: 0.9341\n",
      "Epoch 5/25\n",
      "10/10 [==============================] - 7s 690ms/step - loss: 0.3345 - val_loss: 0.6874\n",
      "Epoch 6/25\n",
      "10/10 [==============================] - 7s 689ms/step - loss: 0.2860 - val_loss: 0.5339\n",
      "Epoch 7/25\n",
      "10/10 [==============================] - 7s 711ms/step - loss: 0.2872 - val_loss: 0.4272\n",
      "Epoch 8/25\n",
      "10/10 [==============================] - 7s 695ms/step - loss: 0.2755 - val_loss: 0.3958\n",
      "Epoch 9/25\n",
      "10/10 [==============================] - 7s 688ms/step - loss: 0.3053 - val_loss: 0.3841\n",
      "Epoch 10/25\n",
      "10/10 [==============================] - 7s 691ms/step - loss: 0.2750 - val_loss: 0.3949\n",
      "Epoch 11/25\n",
      "10/10 [==============================] - 7s 707ms/step - loss: 0.2550 - val_loss: 0.4414\n",
      "Epoch 12/25\n",
      "10/10 [==============================] - 7s 682ms/step - loss: 0.2662 - val_loss: 0.4304\n",
      "Epoch 13/25\n",
      "10/10 [==============================] - 7s 687ms/step - loss: 0.2352 - val_loss: 0.4366\n",
      "Epoch 14/25\n",
      "10/10 [==============================] - 7s 700ms/step - loss: 0.2354 - val_loss: 0.4523\n",
      "Epoch 15/25\n",
      "10/10 [==============================] - 7s 693ms/step - loss: 0.2473 - val_loss: 0.5131\n",
      "Epoch 16/25\n",
      "10/10 [==============================] - 7s 685ms/step - loss: 0.2490 - val_loss: 0.4996\n",
      "Epoch 17/25\n",
      "10/10 [==============================] - 7s 692ms/step - loss: 0.2285 - val_loss: 0.5261\n",
      "Epoch 18/25\n",
      "10/10 [==============================] - 7s 684ms/step - loss: 0.2210 - val_loss: 0.5423\n",
      "Epoch 19/25\n",
      "10/10 [==============================] - 7s 699ms/step - loss: 0.2112 - val_loss: 0.5112\n",
      "Epoch 20/25\n",
      "10/10 [==============================] - 7s 690ms/step - loss: 0.2135 - val_loss: 0.5666\n",
      "Epoch 21/25\n",
      "10/10 [==============================] - 7s 698ms/step - loss: 0.2237 - val_loss: 0.5481\n",
      "Epoch 22/25\n",
      "10/10 [==============================] - 7s 708ms/step - loss: 0.2036 - val_loss: 0.5566\n",
      "Epoch 23/25\n",
      "10/10 [==============================] - 7s 692ms/step - loss: 0.2170 - val_loss: 0.6131\n",
      "Epoch 24/25\n",
      "10/10 [==============================] - 7s 708ms/step - loss: 0.2125 - val_loss: 0.5480\n",
      "Epoch 25/25\n",
      "10/10 [==============================] - 7s 703ms/step - loss: 0.2079 - val_loss: 0.5342\n"
     ]
    }
   ],
   "source": [
    "# Configure the model for training.\n",
    "# We use the \"sparse\" version of categorical_crossentropy\n",
    "# because our target data is integers.\n",
    "# model.compile(\n",
    "#     optimizer=keras.optimizers.Adam(1e-3),\n",
    "#     loss=\"binary_crossentropy\",\n",
    "#     metrics=[\"accuracy\"],\n",
    "# )\n",
    "model.compile(optimizer=keras.optimizers.Adam(1e-4),\n",
    "    loss=\"binary_crossentropy\")\n",
    "\n",
    "# callbacks = [\n",
    "#     keras.callbacks.ModelCheckpoint(\"../unet/model_outputs/segmentation.h5\", save_best_only=True)\n",
    "# ]\n",
    "callbacks = [\n",
    "    keras.callbacks.ModelCheckpoint(\"../unet/model_outputs/save_at_{epoch}_lr1e-4_augment.h5\"),\n",
    "]\n",
    "\n",
    "# Train the model, doing validation at the end of each epoch.\n",
    "epochs = 25\n",
    "history = model.fit(train_gen, epochs=epochs, validation_data=val_gen, callbacks=callbacks)"
   ]
  },
  {
   "cell_type": "markdown",
   "metadata": {},
   "source": [
    "## Look at training curves"
   ]
  },
  {
   "cell_type": "code",
   "execution_count": 77,
   "metadata": {},
   "outputs": [
    {
     "data": {
      "text/plain": [
       "<matplotlib.legend.Legend at 0x7f61e2c6ad30>"
      ]
     },
     "execution_count": 77,
     "metadata": {},
     "output_type": "execute_result"
    },
    {
     "data": {
      "image/png": "[encoded data removed]",
      "text/plain": [
       "<Figure size 432x288 with 1 Axes>"
      ]
     },
     "metadata": {
      "needs_background": "light"
     },
     "output_type": "display_data"
    }
   ],
   "source": [
    "plt.plot(history.history['loss'], label='loss')\n",
    "plt.plot(history.history['val_loss'], label = 'val_loss')\n",
    "plt.xlabel('Epoch')\n",
    "plt.ylabel('loss')\n",
    "plt.legend(loc='upper right')"
   ]
  },
  {
   "cell_type": "markdown",
   "metadata": {},
   "source": [
    "## Visualize predictions"
   ]
  },
  {
   "cell_type": "code",
   "execution_count": 43,
   "metadata": {},
   "outputs": [
    {
     "data": {
      "text/plain": [
       "0.38409683108329773"
      ]
     },
     "execution_count": 43,
     "metadata": {},
     "output_type": "execute_result"
    }
   ],
   "source": [
    "min_val_loss = np.min(history.history['val_loss'])\n",
    "mindex = history.history['val_loss'].index(min_val_loss)+1\n",
    "min_val_loss"
   ]
  },
  {
   "cell_type": "code",
   "execution_count": 44,
   "metadata": {},
   "outputs": [],
   "source": [
    "save_file = f'../unet/model_outputs/save_at_{mindex}_lr1e-4_augment.h5' \n",
    "best_model = keras.models.load_model(save_file)"
   ]
  },
  {
   "cell_type": "code",
   "execution_count": 45,
   "metadata": {},
   "outputs": [],
   "source": [
    "# Generate predictions for all images in the validation set\n",
    "\n",
    "# val_gen = OxfordPets(batch_size, img_size, val_input_img_paths, val_target_img_paths)\n",
    "val_preds = best_model.predict(val_gen)\n",
    "# train_preds = best_model.predict(train_gen)"
   ]
  },
  {
   "cell_type": "code",
   "execution_count": 63,
   "metadata": {},
   "outputs": [
    {
     "data": {
      "text/plain": [
       "(800, 600)"
      ]
     },
     "execution_count": 63,
     "metadata": {},
     "output_type": "execute_result"
    }
   ],
   "source": [
    "im_input = Image.open(filename)\n",
    "im_input.size"
   ]
  },
  {
   "cell_type": "code",
   "execution_count": 67,
   "metadata": {},
   "outputs": [
    {
     "data": {
      "text/plain": [
       "(160, 160)"
      ]
     },
     "execution_count": 67,
     "metadata": {},
     "output_type": "execute_result"
    }
   ],
   "source": [
    "im_thumb = im_input.resize((160,160))\n",
    "im_thumb.size"
   ]
  },
  {
   "cell_type": "code",
   "execution_count": 66,
   "metadata": {},
   "outputs": [
    {
     "data": {
      "text/plain": [
       "(800, 600)"
      ]
     },
     "execution_count": 66,
     "metadata": {},
     "output_type": "execute_result"
    }
   ],
   "source": [
    "im_input.size"
   ]
  },
  {
   "cell_type": "code",
   "execution_count": 73,
   "metadata": {},
   "outputs": [
    {
     "data": {
      "text/plain": [
       "<matplotlib.image.AxesImage at 0x7f61e2d2f670>"
      ]
     },
     "execution_count": 73,
     "metadata": {},
     "output_type": "execute_result"
    },
    {
     "data": {
      "image/png": "[encoded data removed]",
      "text/plain": [
       "<Figure size 864x576 with 3 Axes>"
      ]
     },
     "metadata": {
      "needs_background": "light"
     },
     "output_type": "display_data"
    }
   ],
   "source": [
    "# Display results for validation image #10\n",
    "i = 4\n",
    "\n",
    "fig = plt.figure(figsize=(12,8))\n",
    "# Display input image\n",
    "ax_input = fig.add_subplot(131)\n",
    "filename=val_input_img_paths[i]\n",
    "im_input = Image.open(filename)\n",
    "ax_input.imshow(im_input.resize((160,160)))\n",
    "# Display ground-truth target mask\n",
    "ax_ground_truth = fig.add_subplot(1,3,2)\n",
    "filename_ground_truth = val_target_img_paths[i]\n",
    "im_ground_truth = Image.open(filename_ground_truth)\n",
    "ax_ground_truth.imshow(im_ground_truth.resize((160,160)))\n",
    "# # Display mask predicted by our model\n",
    "ax_pred = fig.add_subplot(1,3,3)\n",
    "mask = np.squeeze(val_preds[i])\n",
    "ax_pred.imshow(mask,vmin=0,vmax=1)"
   ]
  },
  {
   "cell_type": "markdown",
   "metadata": {},
   "source": [
    "IT looks like it is doing somethig but not very well. Maybe I am using the wrong loss function... Or maybe I just need to use the boundaries of the craters as input and not the entire crater? Or maybe I need a bigger training set! It is very small as is. Check out: https://github.com/zhixuhao/unet"
   ]
  },
  {
   "cell_type": "markdown",
   "metadata": {},
   "source": [
    "## Trying different Unet\n",
    "From: https://github.com/zhixuhao/unet, https://towardsdatascience.com/medical-images-segmentation-using-keras-7dc3be5a8524"
   ]
  },
  {
   "cell_type": "code",
   "execution_count": null,
   "metadata": {},
   "outputs": [],
   "source": [
    "# import skimage.io as io\n",
    "# import skimage.transform as trans\n",
    "# import numpy as np\n",
    "from keras.models import *\n",
    "from keras.layers import *\n",
    "from keras.optimizers import *\n",
    "from keras.callbacks import ModelCheckpoint, LearningRateScheduler\n",
    "from keras import backend as keras\n",
    "\n",
    "\n",
    "def unet(pretrained_weights = None,input_size = (256,256,1)):\n",
    "    inputs = Input(input_size)\n",
    "    conv1 = Conv2D(64, 3, activation = 'relu', padding = 'same', kernel_initializer = 'he_normal')(inputs)\n",
    "    conv1 = Conv2D(64, 3, activation = 'relu', padding = 'same', kernel_initializer = 'he_normal')(conv1)\n",
    "    pool1 = MaxPooling2D(pool_size=(2, 2))(conv1)\n",
    "    conv2 = Conv2D(128, 3, activation = 'relu', padding = 'same', kernel_initializer = 'he_normal')(pool1)\n",
    "    conv2 = Conv2D(128, 3, activation = 'relu', padding = 'same', kernel_initializer = 'he_normal')(conv2)\n",
    "    pool2 = MaxPooling2D(pool_size=(2, 2))(conv2)\n",
    "    conv3 = Conv2D(256, 3, activation = 'relu', padding = 'same', kernel_initializer = 'he_normal')(pool2)\n",
    "    conv3 = Conv2D(256, 3, activation = 'relu', padding = 'same', kernel_initializer = 'he_normal')(conv3)\n",
    "    pool3 = MaxPooling2D(pool_size=(2, 2))(conv3)\n",
    "    conv4 = Conv2D(512, 3, activation = 'relu', padding = 'same', kernel_initializer = 'he_normal')(pool3)\n",
    "    conv4 = Conv2D(512, 3, activation = 'relu', padding = 'same', kernel_initializer = 'he_normal')(conv4)\n",
    "    drop4 = Dropout(0.5)(conv4)\n",
    "    pool4 = MaxPooling2D(pool_size=(2, 2))(drop4)\n",
    "\n",
    "    conv5 = Conv2D(1024, 3, activation = 'relu', padding = 'same', kernel_initializer = 'he_normal')(pool4)\n",
    "    conv5 = Conv2D(1024, 3, activation = 'relu', padding = 'same', kernel_initializer = 'he_normal')(conv5)\n",
    "    drop5 = Dropout(0.5)(conv5)\n",
    "\n",
    "    up6 = Conv2D(512, 2, activation = 'relu', padding = 'same', kernel_initializer = 'he_normal')(UpSampling2D(size = (2,2))(drop5))\n",
    "    merge6 = concatenate([drop4,up6], axis = 3)\n",
    "    conv6 = Conv2D(512, 3, activation = 'relu', padding = 'same', kernel_initializer = 'he_normal')(merge6)\n",
    "    conv6 = Conv2D(512, 3, activation = 'relu', padding = 'same', kernel_initializer = 'he_normal')(conv6)\n",
    "\n",
    "    up7 = Conv2D(256, 2, activation = 'relu', padding = 'same', kernel_initializer = 'he_normal')(UpSampling2D(size = (2,2))(conv6))\n",
    "    merge7 = concatenate([conv3,up7], axis = 3)\n",
    "    conv7 = Conv2D(256, 3, activation = 'relu', padding = 'same', kernel_initializer = 'he_normal')(merge7)\n",
    "    conv7 = Conv2D(256, 3, activation = 'relu', padding = 'same', kernel_initializer = 'he_normal')(conv7)\n",
    "\n",
    "    up8 = Conv2D(128, 2, activation = 'relu', padding = 'same', kernel_initializer = 'he_normal')(UpSampling2D(size = (2,2))(conv7))\n",
    "    merge8 = concatenate([conv2,up8], axis = 3)\n",
    "    conv8 = Conv2D(128, 3, activation = 'relu', padding = 'same', kernel_initializer = 'he_normal')(merge8)\n",
    "    conv8 = Conv2D(128, 3, activation = 'relu', padding = 'same', kernel_initializer = 'he_normal')(conv8)\n",
    "\n",
    "    up9 = Conv2D(64, 2, activation = 'relu', padding = 'same', kernel_initializer = 'he_normal')(UpSampling2D(size = (2,2))(conv8))\n",
    "    merge9 = concatenate([conv1,up9], axis = 3)\n",
    "    conv9 = Conv2D(64, 3, activation = 'relu', padding = 'same', kernel_initializer = 'he_normal')(merge9)\n",
    "    conv9 = Conv2D(64, 3, activation = 'relu', padding = 'same', kernel_initializer = 'he_normal')(conv9)\n",
    "    conv9 = Conv2D(2, 3, activation = 'relu', padding = 'same', kernel_initializer = 'he_normal')(conv9)\n",
    "    conv10 = Conv2D(1, 1, activation = 'sigmoid')(conv9)\n",
    "\n",
    "    model = Model(input = inputs, output = conv10)\n",
    "\n",
    "    model.compile(optimizer = Adam(lr = 1e-4), loss = 'binary_crossentropy', metrics = ['accuracy'])\n",
    "    \n",
    "    #model.summary()\n",
    "\n",
    "    if(pretrained_weights):\n",
    "    \tmodel.load_weights(pretrained_weights)\n",
    "\n",
    "    return model\n",
    "\n"
   ]
  },
  {
   "cell_type": "code",
   "execution_count": null,
   "metadata": {},
   "outputs": [],
   "source": [
    "# Hmm looks like it didn't work. Taking a closer look at the validation predictions \n",
    "# I noticed that they all kind of look the same. They have this strange pattern in the top left of the image. \n",
    "# Something went wrong probably in how I am choosing my dimensions/classes in the model"
   ]
  },
  {
   "cell_type": "markdown",
   "metadata": {},
   "source": [
    "# Saving the model\n",
    "The fact that `callbacks` was using during model.fit allowed the model to save out an h5 file after each epoch:\n",
    "```python\n",
    "callbacks = [\n",
    "    keras.callbacks.ModelCheckpoint(\"save_at_{epoch}.h5\"),\n",
    "]\n",
    "model.compile(\n",
    "    optimizer=keras.optimizers.Adam(1e-3),\n",
    "    loss=\"binary_crossentropy\",\n",
    "    metrics=[\"accuracy\"],\n",
    ")\n",
    "history = model.fit(\n",
    "    train_ds, epochs=epochs, callbacks=callbacks, validation_data=val_ds,\n",
    ")\n",
    "```\n",
    "In test_load_cnn() I showed that I can successfully load the model with:\n",
    "```python\n",
    "keras.models.load_model('save_at_40.h5')\n",
    "```"
   ]
  },
  {
   "cell_type": "markdown",
   "metadata": {},
   "source": [
    "## Run more epochs\n",
    "I want to run more epochs leaving off from epoch 40, the last epoch that I ran:"
   ]
  },
  {
   "cell_type": "code",
   "execution_count": null,
   "metadata": {},
   "outputs": [],
   "source": [
    "epochs = 10\n",
    "\n",
    "history2 = model.fit(\n",
    "    train_ds, epochs=epochs, callbacks=callbacks, validation_data=val_ds,\n",
    ")"
   ]
  },
  {
   "cell_type": "markdown",
   "metadata": {},
   "source": [
    "It does look like it picked up from where it left off! I can tell by the accuracy of the model being much closer to when it left off (\\~0.8) compared to when I started (\\~0.5)."
   ]
  },
  {
   "cell_type": "code",
   "execution_count": null,
   "metadata": {},
   "outputs": [],
   "source": [
    "plt.plot(history2.history['accuracy'], label='accuracy')\n",
    "plt.plot(history2.history['val_accuracy'], label = 'val_accuracy')\n",
    "plt.xlabel('Epoch')\n",
    "plt.ylabel('Accuracy')\n",
    "plt.ylim([0.5, 1])\n",
    "plt.legend(loc='lower right')"
   ]
  },
  {
   "cell_type": "markdown",
   "metadata": {},
   "source": [
    "Leveling off now. Pretty happy with 80% accuracy on validation set! Is there a way to combine this history with the previous? Yes, turns out history.history is just a dictionary:"
   ]
  },
  {
   "cell_type": "code",
   "execution_count": null,
   "metadata": {},
   "outputs": [],
   "source": [
    "history.history.keys()"
   ]
  },
  {
   "cell_type": "code",
   "execution_count": null,
   "metadata": {},
   "outputs": [],
   "source": [
    "all_history = {}\n",
    "for key in history.history:\n",
    "    all_history[key] = history.history[key]\n",
    "    all_history[key].extend(history2.history[key])"
   ]
  },
  {
   "cell_type": "code",
   "execution_count": null,
   "metadata": {},
   "outputs": [],
   "source": [
    "plt.plot(all_history['accuracy'], label='accuracy')\n",
    "plt.plot(all_history['val_accuracy'], label = 'val_accuracy')\n",
    "plt.xlabel('Epoch')\n",
    "plt.ylabel('Accuracy')\n",
    "plt.ylim([0.5, 1])\n",
    "plt.legend(loc='lower right')"
   ]
  },
  {
   "cell_type": "code",
   "execution_count": null,
   "metadata": {},
   "outputs": [],
   "source": [
    "# It looks like it might still be improving. Try to run for 10 more epochs\n",
    "epochs = 10\n",
    "callbacks = [\n",
    "    keras.callbacks.ModelCheckpoint(\"save_at_{epoch}_round3.h5\"),\n",
    "]\n",
    "history3 = model.fit(\n",
    "    train_ds, epochs=epochs, callbacks=callbacks, validation_data=val_ds,\n",
    ")"
   ]
  },
  {
   "cell_type": "code",
   "execution_count": null,
   "metadata": {},
   "outputs": [],
   "source": [
    "history3=history2"
   ]
  },
  {
   "cell_type": "code",
   "execution_count": null,
   "metadata": {},
   "outputs": [],
   "source": [
    "# View entire history of 60 epochs from 3 runs\n",
    "# all_history = {}\n",
    "for key in history.history:\n",
    "    all_history[key].extend(history3.history[key])\n",
    "    "
   ]
  },
  {
   "cell_type": "code",
   "execution_count": null,
   "metadata": {},
   "outputs": [],
   "source": [
    "plt.plot(all_history['accuracy'], label='accuracy')\n",
    "plt.plot(all_history['val_accuracy'], label = 'val_accuracy')\n",
    "plt.xlabel('Epoch')\n",
    "plt.ylabel('Accuracy')\n",
    "plt.ylim([0.5, 1])\n",
    "plt.legend(loc='lower right')"
   ]
  },
  {
   "cell_type": "code",
   "execution_count": null,
   "metadata": {},
   "outputs": [],
   "source": [
    "plt.plot(all_history['accuracy'], label='train_accuracy')\n",
    "plt.plot(all_history['val_accuracy'], label = 'val_accuracy')\n",
    "plt.xlabel('Epoch')\n",
    "plt.ylabel('Accuracy')\n",
    "plt.ylim([0.5, 1])\n",
    "plt.legend(loc='lower right',fontsize=12)\n",
    "plt.tight_layout()\n",
    "plt.savefig('../attempt1/training_attempt1.png')"
   ]
  },
  {
   "cell_type": "markdown",
   "metadata": {},
   "source": [
    "OK looks like it is overfitting now. Validation accuracy peaked around epoch 52 or 53. Can find the exact peak. "
   ]
  },
  {
   "cell_type": "code",
   "execution_count": null,
   "metadata": {},
   "outputs": [],
   "source": [
    "max_val_acc = max(all_history['val_accuracy'])\n",
    "all_history['val_accuracy'].index(max_val_acc)+1 "
   ]
  },
  {
   "cell_type": "code",
   "execution_count": null,
   "metadata": {},
   "outputs": [],
   "source": [
    "print(f\"Maximum val_accuracy = {max_val_acc}\")"
   ]
  },
  {
   "cell_type": "markdown",
   "metadata": {},
   "source": [
    "## Evaluate model (at epoch 53) on test set"
   ]
  },
  {
   "cell_type": "code",
   "execution_count": null,
   "metadata": {},
   "outputs": [],
   "source": [
    "save_file = '../attempt1/cnn_saved_epochs/save_at_53.h5'\n",
    "best_model = keras.models.load_model(save_file)"
   ]
  },
  {
   "cell_type": "code",
   "execution_count": null,
   "metadata": {},
   "outputs": [],
   "source": [
    "test_ds = tf.keras.preprocessing.image_dataset_from_directory(test_fld,\n",
    "    seed=1337,\n",
    "    image_size=image_size,\n",
    "    batch_size=batch_size,\n",
    "    class_names=['no_craters','craters']\n",
    ")\n"
   ]
  },
  {
   "cell_type": "code",
   "execution_count": null,
   "metadata": {},
   "outputs": [],
   "source": [
    "# Take a look at some of these to make sure they were loaded in right\n",
    "plt.figure(figsize=(10, 10))\n",
    "for images, labels in test_ds.take(1):\n",
    "    for i in range(9):\n",
    "        print(f\"i={i},label={labels[i]}\")\n",
    "        ax = plt.subplot(3, 3, i + 1)\n",
    "#         ax.set_title(i)\n",
    "        plt.imshow(images[i].numpy().astype(\"uint8\"))\n",
    "        plt.title(int(labels[i]))\n",
    "        plt.axis(\"off\")"
   ]
  },
  {
   "cell_type": "code",
   "execution_count": null,
   "metadata": {},
   "outputs": [],
   "source": [
    "# Load in test images and labels\n",
    "result = best_model.evaluate(test_ds)"
   ]
  },
  {
   "cell_type": "markdown",
   "metadata": {},
   "source": [
    "Looks like my test-set accuracy is ~80%. Pretty good. Let's look at confusion matrix"
   ]
  },
  {
   "cell_type": "code",
   "execution_count": null,
   "metadata": {},
   "outputs": [],
   "source": [
    "test_predictions = []\n",
    "test_labels = []\n",
    "test_probs = []\n",
    "for x, y in test_ds:\n",
    "    new_predictions = best_model.predict(x)[:,0]\n",
    "    test_predictions.extend(list(map(round,new_predictions)))\n",
    "    test_labels.extend(list(map(round,y.numpy())))\n",
    "    new_labels = list(map(round,y.numpy()))\n",
    "    for ii in range(len(new_predictions)):\n",
    "        pred_float = new_predictions[ii]\n",
    "        test_probs.append(pred_float)\n",
    "    "
   ]
  },
  {
   "cell_type": "code",
   "execution_count": null,
   "metadata": {},
   "outputs": [],
   "source": [
    "def plot_confusion_matrix(cm, classes,\n",
    "                          title='Confusion matrix',\n",
    "                          cmap=plt.cm.Oranges):\n",
    "    \"\"\"\n",
    "    This function prints and plots the confusion matrix.\n",
    "    Source: http://scikit-learn.org/stable/auto_examples/model_selection/plot_confusion_matrix.html\n",
    "    \"\"\"\n",
    "    \n",
    "    cm_norm = cm.astype('float') / cm.sum(axis=1)[:, np.newaxis]\n",
    "    print(cm)\n",
    "\n",
    "    plt.figure(figsize = (10, 10))\n",
    "    plt.imshow(cm, interpolation='nearest', cmap=cmap)\n",
    "    plt.title(title, size = 24)\n",
    "    plt.colorbar(aspect=4)\n",
    "    tick_marks = np.arange(len(classes))\n",
    "    plt.xticks(tick_marks, classes, rotation=45, size = 14)\n",
    "    plt.yticks(tick_marks, classes, size = 14)\n",
    "\n",
    "    fmt = 'd'\n",
    "    fmt_norm = '.2f'\n",
    "    thresh = cm.max() / 2.\n",
    "    \n",
    "    # Labeling the plot\n",
    "    for i, j in itertools.product(range(cm.shape[0]), range(cm.shape[1])):\n",
    "        plt.text(j, i, format(cm[i, j], fmt)+f' ({format(cm_norm[i, j], fmt_norm)})',\n",
    "                 fontsize = 20,\n",
    "                 horizontalalignment=\"center\",\n",
    "                 color=\"white\" if cm[i, j] > thresh else \"black\")\n",
    "        \n",
    "    plt.grid(False)\n",
    "    plt.tight_layout()\n",
    "    plt.ylabel('True label', size = 18)\n",
    "    plt.xlabel('Predicted label', size = 18)"
   ]
  },
  {
   "cell_type": "code",
   "execution_count": null,
   "metadata": {
    "scrolled": true
   },
   "outputs": [],
   "source": [
    "cm = confusion_matrix(test_labels, test_predictions)\n",
    "plot_confusion_matrix(cm, classes = ['No craters', 'Craters'],\n",
    "                      title = '',)\n",
    "plt.tight_layout()\n",
    "plt.savefig('../attempt1/confusion_matrix_attempt1.png')"
   ]
  },
  {
   "cell_type": "markdown",
   "metadata": {},
   "source": [
    "So the model is pretty balanced in terms of precision and recall."
   ]
  },
  {
   "cell_type": "code",
   "execution_count": null,
   "metadata": {},
   "outputs": [],
   "source": [
    "false_negatives = [] # will be a list of dictionaries with \n",
    "# each dictionary being: {'image':numpy array of the image,'pred':floating point prediction between 0 and 1}\n",
    "\n",
    "for x, y in test_ds: # loop over batches\n",
    "    new_predictions = best_model.predict(x)[:,0]\n",
    "    new_labels = list(map(round,y.numpy()))\n",
    "    for ii in range(len(new_predictions)):\n",
    "        pred_float = new_predictions[ii]\n",
    "        pred_binary = round(pred_float)\n",
    "        truth = new_labels[ii]\n",
    "        if truth == 1 and pred_binary == 0:\n",
    "            fn_dict = {'image':x[ii],'pred':pred_float}\n",
    "            false_negatives.append(fn_dict)\n"
   ]
  },
  {
   "cell_type": "code",
   "execution_count": null,
   "metadata": {
    "scrolled": true
   },
   "outputs": [],
   "source": [
    "# inspect false negatives\n",
    "np.random.shuffle(false_negatives)\n",
    "plt.figure(figsize=(8, 8))\n",
    "for i in range(9):\n",
    "    ax = plt.subplot(3, 3, i + 1)\n",
    "#         ax.set_title(i)\n",
    "    plt.imshow(false_negatives[i]['image'].numpy().astype(\"uint8\"))\n",
    "    pred_float = false_negatives[i]['pred']\n",
    "    plt.title(f\"p={pred_float:.2f}\",fontsize=12)\n",
    "    plt.text(0,0.85,chr(65+i),transform=ax.transAxes,color='r',fontsize='xx-large')\n",
    "    plt.axis(\"off\")\n",
    "plt.savefig('../attempt1/false_negatives_attempt1.png')"
   ]
  },
  {
   "cell_type": "code",
   "execution_count": null,
   "metadata": {},
   "outputs": [],
   "source": [
    "false_positives = [] # will be a list of dictionaries with \n",
    "# each dictionary being: {'image':numpy array of the image,'pred':floating point prediction between 0 and 1}\n",
    "\n",
    "for x, y in test_ds: # loop over batches\n",
    "    new_predictions = best_model.predict(x)[:,0]\n",
    "    new_labels = list(map(round,y.numpy()))\n",
    "    for ii in range(len(new_predictions)):\n",
    "        pred_float = new_predictions[ii]\n",
    "        pred_binary = round(pred_float)\n",
    "        truth = new_labels[ii]\n",
    "        if truth == 0 and pred_binary == 1:\n",
    "            fn_dict = {'image':x[ii],'pred':pred_float}\n",
    "            false_positives.append(fn_dict)"
   ]
  },
  {
   "cell_type": "code",
   "execution_count": null,
   "metadata": {},
   "outputs": [],
   "source": [
    "# inspect false positives\n",
    "plt.figure(figsize=(8,8))\n",
    "for i in range(9):\n",
    "    ax = plt.subplot(3, 3, i + 1)\n",
    "#         ax.set_title(i)\n",
    "    plt.imshow(false_positives[i]['image'].numpy().astype(\"uint8\"))\n",
    "    pred_float = false_positives[i]['pred']\n",
    "    plt.title(f\"p={pred_float:.2f}\",fontsize=12)\n",
    "    plt.axis(\"off\")\n",
    "    plt.text(0,0.85,chr(65+i),transform=ax.transAxes,color='r',fontsize='xx-large')\n",
    "\n",
    "savename = \"../attempt1/false_positives_attempt1.png\"\n",
    "plt.savefig(savename)"
   ]
  },
  {
   "cell_type": "code",
   "execution_count": null,
   "metadata": {},
   "outputs": [],
   "source": [
    "true_positives = [] # will be a list of dictionaries with \n",
    "# each dictionary being: {'image':numpy array of the image,'pred':floating point prediction between 0 and 1}\n",
    "\n",
    "for x, y in test_ds: # loop over batches\n",
    "    new_predictions = best_model.predict(x)[:,0]\n",
    "    new_labels = list(map(round,y.numpy()))\n",
    "    for ii in range(len(new_predictions)):\n",
    "        pred_float = new_predictions[ii]\n",
    "        pred_binary = round(pred_float)\n",
    "        truth = new_labels[ii]\n",
    "        if truth == 1 and pred_binary == 1:\n",
    "            fn_dict = {'image':x[ii],'pred':pred_float}\n",
    "            true_positives.append(fn_dict)"
   ]
  },
  {
   "cell_type": "code",
   "execution_count": null,
   "metadata": {},
   "outputs": [],
   "source": [
    "# inspect True positives\n",
    "plt.figure(figsize=(15, 15))\n",
    "for i in range(25):\n",
    "    ax = plt.subplot(5, 5, i + 1)\n",
    "#         ax.set_title(i)\n",
    "    plt.imshow(true_positives[i]['image'].numpy().astype(\"uint8\"))\n",
    "    pred_float = true_positives[i]['pred']\n",
    "    plt.title(f\"True Positive,\\n p={pred_float:.2f}\",fontsize=12)\n",
    "    plt.axis(\"off\")"
   ]
  },
  {
   "cell_type": "markdown",
   "metadata": {},
   "source": [
    "It definitely does seem like the more obvious craters are detected. One thing I am noticing is that in the true positives the backgrounds are much more uniform. In the false negatives (fail to detect a crater that is there) the backgrounds are much more colorful. "
   ]
  },
  {
   "cell_type": "code",
   "execution_count": null,
   "metadata": {},
   "outputs": [],
   "source": [
    "all_probabilities = [] \n",
    "\n",
    "for x, y in test_ds: # loop over batches\n",
    "    new_predictions = best_model.predict(x)[:,0]\n",
    "    new_labels = list(map(round,y.numpy()))\n",
    "    for ii in range(len(new_predictions)):\n",
    "        pred_float = new_predictions[ii]\n",
    "        all_probabilities.append(pred_float)"
   ]
  },
  {
   "cell_type": "code",
   "execution_count": null,
   "metadata": {},
   "outputs": [],
   "source": [
    "# Plot distribution of actual probabilities\n",
    "fig = plt.figure()\n",
    "ax = fig.add_subplot(111)\n",
    "ax.hist(all_probabilities)\n",
    "ax.set_xlabel('Probability of crater in image')\n",
    "ax.set_ylabel('N')"
   ]
  },
  {
   "cell_type": "markdown",
   "metadata": {},
   "source": [
    "## ROC - AUC curve"
   ]
  },
  {
   "cell_type": "code",
   "execution_count": null,
   "metadata": {},
   "outputs": [],
   "source": [
    "def evaluate_model(predictions, probs, train_predictions, train_probs):\n",
    "    \"\"\"\n",
    "    Compare machine learning model to baseline performance.\n",
    "    Computes statistics and shows ROC curve.\n",
    "    ---INPUT---\n",
    "    predictions:    predicted classes in the test set\n",
    "    \n",
    "    \"\"\"\n",
    "    \n",
    "    baseline = {}\n",
    "    \n",
    "    baseline['recall'] = recall_score(test_labels, [1 for _ in range(len(test_labels))])\n",
    "    baseline['precision'] = precision_score(test_labels, [1 for _ in range(len(test_labels))])\n",
    "    baseline['roc'] = 0.5\n",
    "    \n",
    "    results = {}\n",
    "    \n",
    "    results['recall'] = recall_score(test_labels, predictions)\n",
    "    results['precision'] = precision_score(test_labels, predictions)\n",
    "    results['roc'] = roc_auc_score(test_labels, probs)\n",
    "    \n",
    "    train_results = {}\n",
    "    train_results['recall'] = recall_score(train_labels, train_predictions)\n",
    "    train_results['precision'] = precision_score(train_labels, train_predictions)\n",
    "    train_results['roc'] = roc_auc_score(train_labels, train_probs)\n",
    "    \n",
    "    for metric in ['recall', 'precision', 'roc']:\n",
    "        print(f'{metric.capitalize()} Baseline: {round(baseline[metric], 2)} Test: {round(results[metric], 2)} Train: {round(train_results[metric], 2)}')\n",
    "    \n",
    "    # Calculate false positive rates and true positive rates\n",
    "    base_fpr, base_tpr, _ = roc_curve(test_labels, [1 for _ in range(len(test_labels))])\n",
    "    model_fpr, model_tpr, _ = roc_curve(test_labels, probs)\n",
    "\n",
    "    plt.figure(figsize = (8, 6))\n",
    "    plt.rcParams['font.size'] = 16\n",
    "    \n",
    "    # Plot both curves\n",
    "    plt.plot(base_fpr, base_tpr, 'b', label = 'baseline')\n",
    "    plt.plot(model_fpr, model_tpr, 'r', label = 'model (test set)')\n",
    "    plt.legend();\n",
    "    plt.xlabel('False Positive Rate'); plt.ylabel('True Positive Rate'); plt.title('ROC Curves');"
   ]
  },
  {
   "cell_type": "code",
   "execution_count": null,
   "metadata": {},
   "outputs": [],
   "source": [
    "train_predictions = []\n",
    "train_labels = []\n",
    "train_probs = []\n",
    "for x, y in train_ds:\n",
    "    new_predictions = best_model.predict(x)[:,0]\n",
    "    train_predictions.extend(list(map(round,new_predictions)))\n",
    "    train_labels.extend(list(map(round,y.numpy())))\n",
    "    for ii in range(len(new_predictions)):\n",
    "        pred_float = new_predictions[ii]\n",
    "        train_probs.append(pred_float)\n",
    "    \n"
   ]
  },
  {
   "cell_type": "code",
   "execution_count": null,
   "metadata": {},
   "outputs": [],
   "source": [
    "evaluate_model(test_predictions,test_probs,train_predictions, train_probs)"
   ]
  },
  {
   "cell_type": "markdown",
   "metadata": {},
   "source": [
    "This is about what I got for the titanic survival challenge which isn't bad!\n",
    "\n",
    "Let's look at some false positives."
   ]
  },
  {
   "cell_type": "markdown",
   "metadata": {},
   "source": [
    "These have a similar background color to the true positives, so it might be using background color here. Another reason to use grayscale instead of color images. "
   ]
  },
  {
   "cell_type": "code",
   "execution_count": null,
   "metadata": {},
   "outputs": [],
   "source": [
    "true_negatives = [] # will be a list of dictionaries with \n",
    "# each dictionary being: {'image':numpy array of the image,'pred':floating point prediction between 0 and 1}\n",
    "\n",
    "for x, y in test_ds: # loop over batches\n",
    "    new_predictions = best_model.predict(x)[:,0]\n",
    "    new_labels = list(map(round,y.numpy()))\n",
    "    for ii in range(len(new_predictions)):\n",
    "        pred_float = new_predictions[ii]\n",
    "        pred_binary = round(pred_float)\n",
    "        truth = new_labels[ii]\n",
    "        if truth == 0 and pred_binary == 0:\n",
    "            fn_dict = {'image':x[ii],'pred':pred_float}\n",
    "            true_negatives.append(fn_dict)"
   ]
  },
  {
   "cell_type": "code",
   "execution_count": null,
   "metadata": {},
   "outputs": [],
   "source": [
    "# inspect true negative\n",
    "plt.figure(figsize=(15, 15))\n",
    "\n",
    "for i in range(25):\n",
    "    ax = plt.subplot(5, 5, i + 1)\n",
    "#         ax.set_title(i)\n",
    "    plt.imshow(true_negatives[i]['image'].numpy().astype(\"uint8\"))\n",
    "    pred_float = true_negatives[i]['pred']\n",
    "    plt.title(f\"True negative,\\n p={pred_float:.2f}\",fontsize=12)\n",
    "    plt.axis(\"off\")"
   ]
  },
  {
   "cell_type": "code",
   "execution_count": null,
   "metadata": {},
   "outputs": [],
   "source": [
    "# Save best model\n",
    "best_model.save('../cnn_saved_epochs/best_model_epoch53.h5')"
   ]
  },
  {
   "cell_type": "markdown",
   "metadata": {},
   "source": [
    "## Things to do\n",
    "- Run the model on the rest of the dataset.\n",
    "- A bigger training/validation set. It's pretty amazing it is doing as well as it is given the limited size of the training set I used.\n",
    "- Try using grayscale images instead of color. Color might be throwing off the model. \n",
    "- Figure out how to do cross validation with this kind of model\n",
    "- Keras tuner\n",
    "- Try different CNN architectures\n",
    "- Try use_multiprocessing=True in model.fit() to see if we get improvement\n",
    "- Try different image sizes to see if that helps/hurts training\n",
    "- Purify training/val set to only include obvious craters\n",
    "- Learn how to look at the intermediate filters in my model\n",
    "\n",
    "## Done\n",
    "- Make a test set and evaluate the model on that -- Take a look at confusion matrix/ ROC-AUC curve\n"
   ]
  },
  {
   "cell_type": "code",
   "execution_count": null,
   "metadata": {},
   "outputs": [],
   "source": []
  }
 ],
 "metadata": {
  "kernelspec": {
   "display_name": "ml",
   "language": "python",
   "name": "ml"
  },
  "language_info": {
   "codemirror_mode": {
    "name": "ipython",
    "version": 3
   },
   "file_extension": ".py",
   "mimetype": "text/x-python",
   "name": "python",
   "nbconvert_exporter": "python",
   "pygments_lexer": "ipython3",
   "version": "3.8.5"
  }
 },
 "nbformat": 4,
 "nbformat_minor": 4
}
